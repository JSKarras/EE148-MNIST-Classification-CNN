{
  "nbformat": 4,
  "nbformat_minor": 0,
  "metadata": {
    "kernelspec": {
      "display_name": "Python 3",
      "language": "python",
      "name": "python3"
    },
    "language_info": {
      "codemirror_mode": {
        "name": "ipython",
        "version": 3
      },
      "file_extension": ".py",
      "mimetype": "text/x-python",
      "name": "python",
      "nbconvert_exporter": "python",
      "pygments_lexer": "ipython3",
      "version": "3.7.10"
    },
    "colab": {
      "name": "hw03.ipynb",
      "provenance": [],
      "collapsed_sections": []
    },
    "accelerator": "GPU",
    "widgets": {
      "application/vnd.jupyter.widget-state+json": {
        "06ba5d0f9ed44ea88ebafa4d19374585": {
          "model_module": "@jupyter-widgets/controls",
          "model_name": "HBoxModel",
          "state": {
            "_view_name": "HBoxView",
            "_dom_classes": [],
            "_model_name": "HBoxModel",
            "_view_module": "@jupyter-widgets/controls",
            "_model_module_version": "1.5.0",
            "_view_count": null,
            "_view_module_version": "1.5.0",
            "box_style": "",
            "layout": "IPY_MODEL_88fce6d7980d46449ee1461489b51996",
            "_model_module": "@jupyter-widgets/controls",
            "children": [
              "IPY_MODEL_d2b3b1a8c4714132b3ca464637eeb3a4",
              "IPY_MODEL_20dba4acd2c7489e96b1231b833ce908"
            ]
          }
        },
        "88fce6d7980d46449ee1461489b51996": {
          "model_module": "@jupyter-widgets/base",
          "model_name": "LayoutModel",
          "state": {
            "_view_name": "LayoutView",
            "grid_template_rows": null,
            "right": null,
            "justify_content": null,
            "_view_module": "@jupyter-widgets/base",
            "overflow": null,
            "_model_module_version": "1.2.0",
            "_view_count": null,
            "flex_flow": null,
            "width": null,
            "min_width": null,
            "border": null,
            "align_items": null,
            "bottom": null,
            "_model_module": "@jupyter-widgets/base",
            "top": null,
            "grid_column": null,
            "overflow_y": null,
            "overflow_x": null,
            "grid_auto_flow": null,
            "grid_area": null,
            "grid_template_columns": null,
            "flex": null,
            "_model_name": "LayoutModel",
            "justify_items": null,
            "grid_row": null,
            "max_height": null,
            "align_content": null,
            "visibility": null,
            "align_self": null,
            "height": null,
            "min_height": null,
            "padding": null,
            "grid_auto_rows": null,
            "grid_gap": null,
            "max_width": null,
            "order": null,
            "_view_module_version": "1.2.0",
            "grid_template_areas": null,
            "object_position": null,
            "object_fit": null,
            "grid_auto_columns": null,
            "margin": null,
            "display": null,
            "left": null
          }
        },
        "d2b3b1a8c4714132b3ca464637eeb3a4": {
          "model_module": "@jupyter-widgets/controls",
          "model_name": "FloatProgressModel",
          "state": {
            "_view_name": "ProgressView",
            "style": "IPY_MODEL_ab6af896ef22442a9c9dc6618237efa0",
            "_dom_classes": [],
            "description": "",
            "_model_name": "FloatProgressModel",
            "bar_style": "success",
            "max": 9912422,
            "_view_module": "@jupyter-widgets/controls",
            "_model_module_version": "1.5.0",
            "value": 9912422,
            "_view_count": null,
            "_view_module_version": "1.5.0",
            "orientation": "horizontal",
            "min": 0,
            "description_tooltip": null,
            "_model_module": "@jupyter-widgets/controls",
            "layout": "IPY_MODEL_242a774a252c49a29d06bfa98dad3f22"
          }
        },
        "20dba4acd2c7489e96b1231b833ce908": {
          "model_module": "@jupyter-widgets/controls",
          "model_name": "HTMLModel",
          "state": {
            "_view_name": "HTMLView",
            "style": "IPY_MODEL_abec89bad5c54333b315f47c4563e36b",
            "_dom_classes": [],
            "description": "",
            "_model_name": "HTMLModel",
            "placeholder": "​",
            "_view_module": "@jupyter-widgets/controls",
            "_model_module_version": "1.5.0",
            "value": " 9913344/? [00:54&lt;00:00, 183407.79it/s]",
            "_view_count": null,
            "_view_module_version": "1.5.0",
            "description_tooltip": null,
            "_model_module": "@jupyter-widgets/controls",
            "layout": "IPY_MODEL_7ae79c8662ad41ca8dc5812ed566c943"
          }
        },
        "ab6af896ef22442a9c9dc6618237efa0": {
          "model_module": "@jupyter-widgets/controls",
          "model_name": "ProgressStyleModel",
          "state": {
            "_view_name": "StyleView",
            "_model_name": "ProgressStyleModel",
            "description_width": "initial",
            "_view_module": "@jupyter-widgets/base",
            "_model_module_version": "1.5.0",
            "_view_count": null,
            "_view_module_version": "1.2.0",
            "bar_color": null,
            "_model_module": "@jupyter-widgets/controls"
          }
        },
        "242a774a252c49a29d06bfa98dad3f22": {
          "model_module": "@jupyter-widgets/base",
          "model_name": "LayoutModel",
          "state": {
            "_view_name": "LayoutView",
            "grid_template_rows": null,
            "right": null,
            "justify_content": null,
            "_view_module": "@jupyter-widgets/base",
            "overflow": null,
            "_model_module_version": "1.2.0",
            "_view_count": null,
            "flex_flow": null,
            "width": null,
            "min_width": null,
            "border": null,
            "align_items": null,
            "bottom": null,
            "_model_module": "@jupyter-widgets/base",
            "top": null,
            "grid_column": null,
            "overflow_y": null,
            "overflow_x": null,
            "grid_auto_flow": null,
            "grid_area": null,
            "grid_template_columns": null,
            "flex": null,
            "_model_name": "LayoutModel",
            "justify_items": null,
            "grid_row": null,
            "max_height": null,
            "align_content": null,
            "visibility": null,
            "align_self": null,
            "height": null,
            "min_height": null,
            "padding": null,
            "grid_auto_rows": null,
            "grid_gap": null,
            "max_width": null,
            "order": null,
            "_view_module_version": "1.2.0",
            "grid_template_areas": null,
            "object_position": null,
            "object_fit": null,
            "grid_auto_columns": null,
            "margin": null,
            "display": null,
            "left": null
          }
        },
        "abec89bad5c54333b315f47c4563e36b": {
          "model_module": "@jupyter-widgets/controls",
          "model_name": "DescriptionStyleModel",
          "state": {
            "_view_name": "StyleView",
            "_model_name": "DescriptionStyleModel",
            "description_width": "",
            "_view_module": "@jupyter-widgets/base",
            "_model_module_version": "1.5.0",
            "_view_count": null,
            "_view_module_version": "1.2.0",
            "_model_module": "@jupyter-widgets/controls"
          }
        },
        "7ae79c8662ad41ca8dc5812ed566c943": {
          "model_module": "@jupyter-widgets/base",
          "model_name": "LayoutModel",
          "state": {
            "_view_name": "LayoutView",
            "grid_template_rows": null,
            "right": null,
            "justify_content": null,
            "_view_module": "@jupyter-widgets/base",
            "overflow": null,
            "_model_module_version": "1.2.0",
            "_view_count": null,
            "flex_flow": null,
            "width": null,
            "min_width": null,
            "border": null,
            "align_items": null,
            "bottom": null,
            "_model_module": "@jupyter-widgets/base",
            "top": null,
            "grid_column": null,
            "overflow_y": null,
            "overflow_x": null,
            "grid_auto_flow": null,
            "grid_area": null,
            "grid_template_columns": null,
            "flex": null,
            "_model_name": "LayoutModel",
            "justify_items": null,
            "grid_row": null,
            "max_height": null,
            "align_content": null,
            "visibility": null,
            "align_self": null,
            "height": null,
            "min_height": null,
            "padding": null,
            "grid_auto_rows": null,
            "grid_gap": null,
            "max_width": null,
            "order": null,
            "_view_module_version": "1.2.0",
            "grid_template_areas": null,
            "object_position": null,
            "object_fit": null,
            "grid_auto_columns": null,
            "margin": null,
            "display": null,
            "left": null
          }
        },
        "e430a0a4000440a49fc075a86081441b": {
          "model_module": "@jupyter-widgets/controls",
          "model_name": "HBoxModel",
          "state": {
            "_view_name": "HBoxView",
            "_dom_classes": [],
            "_model_name": "HBoxModel",
            "_view_module": "@jupyter-widgets/controls",
            "_model_module_version": "1.5.0",
            "_view_count": null,
            "_view_module_version": "1.5.0",
            "box_style": "",
            "layout": "IPY_MODEL_945da7163d664b068cee312e472021da",
            "_model_module": "@jupyter-widgets/controls",
            "children": [
              "IPY_MODEL_7910ca31a3c5444c9a161e9fa80f7c79",
              "IPY_MODEL_440b9a6d16e0476b891b15b31b8e03e6"
            ]
          }
        },
        "945da7163d664b068cee312e472021da": {
          "model_module": "@jupyter-widgets/base",
          "model_name": "LayoutModel",
          "state": {
            "_view_name": "LayoutView",
            "grid_template_rows": null,
            "right": null,
            "justify_content": null,
            "_view_module": "@jupyter-widgets/base",
            "overflow": null,
            "_model_module_version": "1.2.0",
            "_view_count": null,
            "flex_flow": null,
            "width": null,
            "min_width": null,
            "border": null,
            "align_items": null,
            "bottom": null,
            "_model_module": "@jupyter-widgets/base",
            "top": null,
            "grid_column": null,
            "overflow_y": null,
            "overflow_x": null,
            "grid_auto_flow": null,
            "grid_area": null,
            "grid_template_columns": null,
            "flex": null,
            "_model_name": "LayoutModel",
            "justify_items": null,
            "grid_row": null,
            "max_height": null,
            "align_content": null,
            "visibility": null,
            "align_self": null,
            "height": null,
            "min_height": null,
            "padding": null,
            "grid_auto_rows": null,
            "grid_gap": null,
            "max_width": null,
            "order": null,
            "_view_module_version": "1.2.0",
            "grid_template_areas": null,
            "object_position": null,
            "object_fit": null,
            "grid_auto_columns": null,
            "margin": null,
            "display": null,
            "left": null
          }
        },
        "7910ca31a3c5444c9a161e9fa80f7c79": {
          "model_module": "@jupyter-widgets/controls",
          "model_name": "FloatProgressModel",
          "state": {
            "_view_name": "ProgressView",
            "style": "IPY_MODEL_ecd348b1c17e4a7dbb7d3bb0eb244c4d",
            "_dom_classes": [],
            "description": "",
            "_model_name": "FloatProgressModel",
            "bar_style": "success",
            "max": 28881,
            "_view_module": "@jupyter-widgets/controls",
            "_model_module_version": "1.5.0",
            "value": 28881,
            "_view_count": null,
            "_view_module_version": "1.5.0",
            "orientation": "horizontal",
            "min": 0,
            "description_tooltip": null,
            "_model_module": "@jupyter-widgets/controls",
            "layout": "IPY_MODEL_00b61954ea6a45aba0f8f7e7bf32988a"
          }
        },
        "440b9a6d16e0476b891b15b31b8e03e6": {
          "model_module": "@jupyter-widgets/controls",
          "model_name": "HTMLModel",
          "state": {
            "_view_name": "HTMLView",
            "style": "IPY_MODEL_dfca44b4959246d7ae0a58551da0c3dd",
            "_dom_classes": [],
            "description": "",
            "_model_name": "HTMLModel",
            "placeholder": "​",
            "_view_module": "@jupyter-widgets/controls",
            "_model_module_version": "1.5.0",
            "value": " 29696/? [00:00&lt;00:00, 189171.12it/s]",
            "_view_count": null,
            "_view_module_version": "1.5.0",
            "description_tooltip": null,
            "_model_module": "@jupyter-widgets/controls",
            "layout": "IPY_MODEL_93f6b28667dc4bd7ae10c8ce91f5be9b"
          }
        },
        "ecd348b1c17e4a7dbb7d3bb0eb244c4d": {
          "model_module": "@jupyter-widgets/controls",
          "model_name": "ProgressStyleModel",
          "state": {
            "_view_name": "StyleView",
            "_model_name": "ProgressStyleModel",
            "description_width": "initial",
            "_view_module": "@jupyter-widgets/base",
            "_model_module_version": "1.5.0",
            "_view_count": null,
            "_view_module_version": "1.2.0",
            "bar_color": null,
            "_model_module": "@jupyter-widgets/controls"
          }
        },
        "00b61954ea6a45aba0f8f7e7bf32988a": {
          "model_module": "@jupyter-widgets/base",
          "model_name": "LayoutModel",
          "state": {
            "_view_name": "LayoutView",
            "grid_template_rows": null,
            "right": null,
            "justify_content": null,
            "_view_module": "@jupyter-widgets/base",
            "overflow": null,
            "_model_module_version": "1.2.0",
            "_view_count": null,
            "flex_flow": null,
            "width": null,
            "min_width": null,
            "border": null,
            "align_items": null,
            "bottom": null,
            "_model_module": "@jupyter-widgets/base",
            "top": null,
            "grid_column": null,
            "overflow_y": null,
            "overflow_x": null,
            "grid_auto_flow": null,
            "grid_area": null,
            "grid_template_columns": null,
            "flex": null,
            "_model_name": "LayoutModel",
            "justify_items": null,
            "grid_row": null,
            "max_height": null,
            "align_content": null,
            "visibility": null,
            "align_self": null,
            "height": null,
            "min_height": null,
            "padding": null,
            "grid_auto_rows": null,
            "grid_gap": null,
            "max_width": null,
            "order": null,
            "_view_module_version": "1.2.0",
            "grid_template_areas": null,
            "object_position": null,
            "object_fit": null,
            "grid_auto_columns": null,
            "margin": null,
            "display": null,
            "left": null
          }
        },
        "dfca44b4959246d7ae0a58551da0c3dd": {
          "model_module": "@jupyter-widgets/controls",
          "model_name": "DescriptionStyleModel",
          "state": {
            "_view_name": "StyleView",
            "_model_name": "DescriptionStyleModel",
            "description_width": "",
            "_view_module": "@jupyter-widgets/base",
            "_model_module_version": "1.5.0",
            "_view_count": null,
            "_view_module_version": "1.2.0",
            "_model_module": "@jupyter-widgets/controls"
          }
        },
        "93f6b28667dc4bd7ae10c8ce91f5be9b": {
          "model_module": "@jupyter-widgets/base",
          "model_name": "LayoutModel",
          "state": {
            "_view_name": "LayoutView",
            "grid_template_rows": null,
            "right": null,
            "justify_content": null,
            "_view_module": "@jupyter-widgets/base",
            "overflow": null,
            "_model_module_version": "1.2.0",
            "_view_count": null,
            "flex_flow": null,
            "width": null,
            "min_width": null,
            "border": null,
            "align_items": null,
            "bottom": null,
            "_model_module": "@jupyter-widgets/base",
            "top": null,
            "grid_column": null,
            "overflow_y": null,
            "overflow_x": null,
            "grid_auto_flow": null,
            "grid_area": null,
            "grid_template_columns": null,
            "flex": null,
            "_model_name": "LayoutModel",
            "justify_items": null,
            "grid_row": null,
            "max_height": null,
            "align_content": null,
            "visibility": null,
            "align_self": null,
            "height": null,
            "min_height": null,
            "padding": null,
            "grid_auto_rows": null,
            "grid_gap": null,
            "max_width": null,
            "order": null,
            "_view_module_version": "1.2.0",
            "grid_template_areas": null,
            "object_position": null,
            "object_fit": null,
            "grid_auto_columns": null,
            "margin": null,
            "display": null,
            "left": null
          }
        },
        "9208bedd33e843cfa9d249873162367b": {
          "model_module": "@jupyter-widgets/controls",
          "model_name": "HBoxModel",
          "state": {
            "_view_name": "HBoxView",
            "_dom_classes": [],
            "_model_name": "HBoxModel",
            "_view_module": "@jupyter-widgets/controls",
            "_model_module_version": "1.5.0",
            "_view_count": null,
            "_view_module_version": "1.5.0",
            "box_style": "",
            "layout": "IPY_MODEL_0d3394783bb34f958275262e7ec0948b",
            "_model_module": "@jupyter-widgets/controls",
            "children": [
              "IPY_MODEL_20136f37a99d4d9581c881dbeca903c9",
              "IPY_MODEL_3fd25e00ee544b74ba2a8e36252a63fd"
            ]
          }
        },
        "0d3394783bb34f958275262e7ec0948b": {
          "model_module": "@jupyter-widgets/base",
          "model_name": "LayoutModel",
          "state": {
            "_view_name": "LayoutView",
            "grid_template_rows": null,
            "right": null,
            "justify_content": null,
            "_view_module": "@jupyter-widgets/base",
            "overflow": null,
            "_model_module_version": "1.2.0",
            "_view_count": null,
            "flex_flow": null,
            "width": null,
            "min_width": null,
            "border": null,
            "align_items": null,
            "bottom": null,
            "_model_module": "@jupyter-widgets/base",
            "top": null,
            "grid_column": null,
            "overflow_y": null,
            "overflow_x": null,
            "grid_auto_flow": null,
            "grid_area": null,
            "grid_template_columns": null,
            "flex": null,
            "_model_name": "LayoutModel",
            "justify_items": null,
            "grid_row": null,
            "max_height": null,
            "align_content": null,
            "visibility": null,
            "align_self": null,
            "height": null,
            "min_height": null,
            "padding": null,
            "grid_auto_rows": null,
            "grid_gap": null,
            "max_width": null,
            "order": null,
            "_view_module_version": "1.2.0",
            "grid_template_areas": null,
            "object_position": null,
            "object_fit": null,
            "grid_auto_columns": null,
            "margin": null,
            "display": null,
            "left": null
          }
        },
        "20136f37a99d4d9581c881dbeca903c9": {
          "model_module": "@jupyter-widgets/controls",
          "model_name": "FloatProgressModel",
          "state": {
            "_view_name": "ProgressView",
            "style": "IPY_MODEL_c7dc6238c2a746d3974001adba7d0872",
            "_dom_classes": [],
            "description": "",
            "_model_name": "FloatProgressModel",
            "bar_style": "success",
            "max": 1648877,
            "_view_module": "@jupyter-widgets/controls",
            "_model_module_version": "1.5.0",
            "value": 1648877,
            "_view_count": null,
            "_view_module_version": "1.5.0",
            "orientation": "horizontal",
            "min": 0,
            "description_tooltip": null,
            "_model_module": "@jupyter-widgets/controls",
            "layout": "IPY_MODEL_4da978b0089e4d81847847ce506c9c28"
          }
        },
        "3fd25e00ee544b74ba2a8e36252a63fd": {
          "model_module": "@jupyter-widgets/controls",
          "model_name": "HTMLModel",
          "state": {
            "_view_name": "HTMLView",
            "style": "IPY_MODEL_495ac69e7713467c9fb384e815478f21",
            "_dom_classes": [],
            "description": "",
            "_model_name": "HTMLModel",
            "placeholder": "​",
            "_view_module": "@jupyter-widgets/controls",
            "_model_module_version": "1.5.0",
            "value": " 1649664/? [00:53&lt;00:00, 30969.53it/s]",
            "_view_count": null,
            "_view_module_version": "1.5.0",
            "description_tooltip": null,
            "_model_module": "@jupyter-widgets/controls",
            "layout": "IPY_MODEL_e598606e541a48b5bbcba106d4b68c8b"
          }
        },
        "c7dc6238c2a746d3974001adba7d0872": {
          "model_module": "@jupyter-widgets/controls",
          "model_name": "ProgressStyleModel",
          "state": {
            "_view_name": "StyleView",
            "_model_name": "ProgressStyleModel",
            "description_width": "initial",
            "_view_module": "@jupyter-widgets/base",
            "_model_module_version": "1.5.0",
            "_view_count": null,
            "_view_module_version": "1.2.0",
            "bar_color": null,
            "_model_module": "@jupyter-widgets/controls"
          }
        },
        "4da978b0089e4d81847847ce506c9c28": {
          "model_module": "@jupyter-widgets/base",
          "model_name": "LayoutModel",
          "state": {
            "_view_name": "LayoutView",
            "grid_template_rows": null,
            "right": null,
            "justify_content": null,
            "_view_module": "@jupyter-widgets/base",
            "overflow": null,
            "_model_module_version": "1.2.0",
            "_view_count": null,
            "flex_flow": null,
            "width": null,
            "min_width": null,
            "border": null,
            "align_items": null,
            "bottom": null,
            "_model_module": "@jupyter-widgets/base",
            "top": null,
            "grid_column": null,
            "overflow_y": null,
            "overflow_x": null,
            "grid_auto_flow": null,
            "grid_area": null,
            "grid_template_columns": null,
            "flex": null,
            "_model_name": "LayoutModel",
            "justify_items": null,
            "grid_row": null,
            "max_height": null,
            "align_content": null,
            "visibility": null,
            "align_self": null,
            "height": null,
            "min_height": null,
            "padding": null,
            "grid_auto_rows": null,
            "grid_gap": null,
            "max_width": null,
            "order": null,
            "_view_module_version": "1.2.0",
            "grid_template_areas": null,
            "object_position": null,
            "object_fit": null,
            "grid_auto_columns": null,
            "margin": null,
            "display": null,
            "left": null
          }
        },
        "495ac69e7713467c9fb384e815478f21": {
          "model_module": "@jupyter-widgets/controls",
          "model_name": "DescriptionStyleModel",
          "state": {
            "_view_name": "StyleView",
            "_model_name": "DescriptionStyleModel",
            "description_width": "",
            "_view_module": "@jupyter-widgets/base",
            "_model_module_version": "1.5.0",
            "_view_count": null,
            "_view_module_version": "1.2.0",
            "_model_module": "@jupyter-widgets/controls"
          }
        },
        "e598606e541a48b5bbcba106d4b68c8b": {
          "model_module": "@jupyter-widgets/base",
          "model_name": "LayoutModel",
          "state": {
            "_view_name": "LayoutView",
            "grid_template_rows": null,
            "right": null,
            "justify_content": null,
            "_view_module": "@jupyter-widgets/base",
            "overflow": null,
            "_model_module_version": "1.2.0",
            "_view_count": null,
            "flex_flow": null,
            "width": null,
            "min_width": null,
            "border": null,
            "align_items": null,
            "bottom": null,
            "_model_module": "@jupyter-widgets/base",
            "top": null,
            "grid_column": null,
            "overflow_y": null,
            "overflow_x": null,
            "grid_auto_flow": null,
            "grid_area": null,
            "grid_template_columns": null,
            "flex": null,
            "_model_name": "LayoutModel",
            "justify_items": null,
            "grid_row": null,
            "max_height": null,
            "align_content": null,
            "visibility": null,
            "align_self": null,
            "height": null,
            "min_height": null,
            "padding": null,
            "grid_auto_rows": null,
            "grid_gap": null,
            "max_width": null,
            "order": null,
            "_view_module_version": "1.2.0",
            "grid_template_areas": null,
            "object_position": null,
            "object_fit": null,
            "grid_auto_columns": null,
            "margin": null,
            "display": null,
            "left": null
          }
        },
        "cd10776c19194d65b689df3ffb4f4ab1": {
          "model_module": "@jupyter-widgets/controls",
          "model_name": "HBoxModel",
          "state": {
            "_view_name": "HBoxView",
            "_dom_classes": [],
            "_model_name": "HBoxModel",
            "_view_module": "@jupyter-widgets/controls",
            "_model_module_version": "1.5.0",
            "_view_count": null,
            "_view_module_version": "1.5.0",
            "box_style": "",
            "layout": "IPY_MODEL_5ff82aee9a0c48bda6ae17a7374a6db0",
            "_model_module": "@jupyter-widgets/controls",
            "children": [
              "IPY_MODEL_c945c76510cd4af99c7b2f3c8d43a1e5",
              "IPY_MODEL_b151f01376a64d2ab279861d37e96ae9"
            ]
          }
        },
        "5ff82aee9a0c48bda6ae17a7374a6db0": {
          "model_module": "@jupyter-widgets/base",
          "model_name": "LayoutModel",
          "state": {
            "_view_name": "LayoutView",
            "grid_template_rows": null,
            "right": null,
            "justify_content": null,
            "_view_module": "@jupyter-widgets/base",
            "overflow": null,
            "_model_module_version": "1.2.0",
            "_view_count": null,
            "flex_flow": null,
            "width": null,
            "min_width": null,
            "border": null,
            "align_items": null,
            "bottom": null,
            "_model_module": "@jupyter-widgets/base",
            "top": null,
            "grid_column": null,
            "overflow_y": null,
            "overflow_x": null,
            "grid_auto_flow": null,
            "grid_area": null,
            "grid_template_columns": null,
            "flex": null,
            "_model_name": "LayoutModel",
            "justify_items": null,
            "grid_row": null,
            "max_height": null,
            "align_content": null,
            "visibility": null,
            "align_self": null,
            "height": null,
            "min_height": null,
            "padding": null,
            "grid_auto_rows": null,
            "grid_gap": null,
            "max_width": null,
            "order": null,
            "_view_module_version": "1.2.0",
            "grid_template_areas": null,
            "object_position": null,
            "object_fit": null,
            "grid_auto_columns": null,
            "margin": null,
            "display": null,
            "left": null
          }
        },
        "c945c76510cd4af99c7b2f3c8d43a1e5": {
          "model_module": "@jupyter-widgets/controls",
          "model_name": "FloatProgressModel",
          "state": {
            "_view_name": "ProgressView",
            "style": "IPY_MODEL_ff3fd05b52554a98b474e8a6fe122958",
            "_dom_classes": [],
            "description": "",
            "_model_name": "FloatProgressModel",
            "bar_style": "success",
            "max": 4542,
            "_view_module": "@jupyter-widgets/controls",
            "_model_module_version": "1.5.0",
            "value": 4542,
            "_view_count": null,
            "_view_module_version": "1.5.0",
            "orientation": "horizontal",
            "min": 0,
            "description_tooltip": null,
            "_model_module": "@jupyter-widgets/controls",
            "layout": "IPY_MODEL_23cf8f505f874bd2be64eb35c83df3a9"
          }
        },
        "b151f01376a64d2ab279861d37e96ae9": {
          "model_module": "@jupyter-widgets/controls",
          "model_name": "HTMLModel",
          "state": {
            "_view_name": "HTMLView",
            "style": "IPY_MODEL_20e4c53334da458e8cd63a3064be3f6c",
            "_dom_classes": [],
            "description": "",
            "_model_name": "HTMLModel",
            "placeholder": "​",
            "_view_module": "@jupyter-widgets/controls",
            "_model_module_version": "1.5.0",
            "value": " 5120/? [00:00&lt;00:00, 8908.76it/s]",
            "_view_count": null,
            "_view_module_version": "1.5.0",
            "description_tooltip": null,
            "_model_module": "@jupyter-widgets/controls",
            "layout": "IPY_MODEL_b4137ba5418f47fda0d70deb64f30755"
          }
        },
        "ff3fd05b52554a98b474e8a6fe122958": {
          "model_module": "@jupyter-widgets/controls",
          "model_name": "ProgressStyleModel",
          "state": {
            "_view_name": "StyleView",
            "_model_name": "ProgressStyleModel",
            "description_width": "initial",
            "_view_module": "@jupyter-widgets/base",
            "_model_module_version": "1.5.0",
            "_view_count": null,
            "_view_module_version": "1.2.0",
            "bar_color": null,
            "_model_module": "@jupyter-widgets/controls"
          }
        },
        "23cf8f505f874bd2be64eb35c83df3a9": {
          "model_module": "@jupyter-widgets/base",
          "model_name": "LayoutModel",
          "state": {
            "_view_name": "LayoutView",
            "grid_template_rows": null,
            "right": null,
            "justify_content": null,
            "_view_module": "@jupyter-widgets/base",
            "overflow": null,
            "_model_module_version": "1.2.0",
            "_view_count": null,
            "flex_flow": null,
            "width": null,
            "min_width": null,
            "border": null,
            "align_items": null,
            "bottom": null,
            "_model_module": "@jupyter-widgets/base",
            "top": null,
            "grid_column": null,
            "overflow_y": null,
            "overflow_x": null,
            "grid_auto_flow": null,
            "grid_area": null,
            "grid_template_columns": null,
            "flex": null,
            "_model_name": "LayoutModel",
            "justify_items": null,
            "grid_row": null,
            "max_height": null,
            "align_content": null,
            "visibility": null,
            "align_self": null,
            "height": null,
            "min_height": null,
            "padding": null,
            "grid_auto_rows": null,
            "grid_gap": null,
            "max_width": null,
            "order": null,
            "_view_module_version": "1.2.0",
            "grid_template_areas": null,
            "object_position": null,
            "object_fit": null,
            "grid_auto_columns": null,
            "margin": null,
            "display": null,
            "left": null
          }
        },
        "20e4c53334da458e8cd63a3064be3f6c": {
          "model_module": "@jupyter-widgets/controls",
          "model_name": "DescriptionStyleModel",
          "state": {
            "_view_name": "StyleView",
            "_model_name": "DescriptionStyleModel",
            "description_width": "",
            "_view_module": "@jupyter-widgets/base",
            "_model_module_version": "1.5.0",
            "_view_count": null,
            "_view_module_version": "1.2.0",
            "_model_module": "@jupyter-widgets/controls"
          }
        },
        "b4137ba5418f47fda0d70deb64f30755": {
          "model_module": "@jupyter-widgets/base",
          "model_name": "LayoutModel",
          "state": {
            "_view_name": "LayoutView",
            "grid_template_rows": null,
            "right": null,
            "justify_content": null,
            "_view_module": "@jupyter-widgets/base",
            "overflow": null,
            "_model_module_version": "1.2.0",
            "_view_count": null,
            "flex_flow": null,
            "width": null,
            "min_width": null,
            "border": null,
            "align_items": null,
            "bottom": null,
            "_model_module": "@jupyter-widgets/base",
            "top": null,
            "grid_column": null,
            "overflow_y": null,
            "overflow_x": null,
            "grid_auto_flow": null,
            "grid_area": null,
            "grid_template_columns": null,
            "flex": null,
            "_model_name": "LayoutModel",
            "justify_items": null,
            "grid_row": null,
            "max_height": null,
            "align_content": null,
            "visibility": null,
            "align_self": null,
            "height": null,
            "min_height": null,
            "padding": null,
            "grid_auto_rows": null,
            "grid_gap": null,
            "max_width": null,
            "order": null,
            "_view_module_version": "1.2.0",
            "grid_template_areas": null,
            "object_position": null,
            "object_fit": null,
            "grid_auto_columns": null,
            "margin": null,
            "display": null,
            "left": null
          }
        }
      }
    }
  },
  "cells": [
    {
      "cell_type": "code",
      "metadata": {
        "colab": {
          "base_uri": "https://localhost:8080/"
        },
        "id": "qTSA55-8F2Tu",
        "outputId": "004bce86-e965-4e75-9365-be88b7c0cdd7"
      },
      "source": [
        "!pip install git+https://github.com/ncullen93/torchsample"
      ],
      "execution_count": 1,
      "outputs": [
        {
          "output_type": "stream",
          "text": [
            "Collecting git+https://github.com/ncullen93/torchsample\n",
            "  Cloning https://github.com/ncullen93/torchsample to /tmp/pip-req-build-r476fi7d\n",
            "  Running command git clone -q https://github.com/ncullen93/torchsample /tmp/pip-req-build-r476fi7d\n",
            "Building wheels for collected packages: torchsample\n",
            "  Building wheel for torchsample (setup.py) ... \u001b[?25l\u001b[?25hdone\n",
            "  Created wheel for torchsample: filename=torchsample-0.1.3-cp37-none-any.whl size=43416 sha256=bb5753cb2dc26c5ee8918fafee0b0fa203bf0b484567fa8ec2aeb45fe8348bba\n",
            "  Stored in directory: /tmp/pip-ephem-wheel-cache-s5obi1ye/wheels/88/c7/72/14cd9a173eed1e29d0b17d866e7d9ee511d31a834aedd27489\n",
            "Successfully built torchsample\n",
            "Installing collected packages: torchsample\n",
            "Successfully installed torchsample-0.1.3\n"
          ],
          "name": "stdout"
        }
      ]
    },
    {
      "cell_type": "code",
      "metadata": {
        "id": "Jb49s6IzWZhj"
      },
      "source": [
        "# Import libraries and modules\n",
        "from __future__ import print_function\n",
        "import argparse\n",
        "import torch\n",
        "import torch.nn as nn\n",
        "import torch.nn.functional as F\n",
        "import torch.optim as optim\n",
        "import torchsummary as summary\n",
        "from torchsample.modules import ModuleTrainer\n",
        "from torchvision import datasets, transforms\n",
        "from torch.optim.lr_scheduler import StepLR\n",
        "from torch.utils.data.sampler import SubsetRandomSampler\n",
        "from torch.utils.data import DataLoader, ConcatDataset\n",
        "from torchvision.transforms import Compose \n",
        "from torchsample.callbacks import EarlyStopping\n",
        "from torch.nn import Linear, Conv2d, MaxPool2d, AvgPool2d\n",
        "from torch.nn import ReLU, Softmax, BatchNorm2d, Dropout, Flatten\n",
        "\n",
        "import os\n",
        "import random\n",
        "import numpy as np\n",
        "import matplotlib.pyplot as plt"
      ],
      "execution_count": 2,
      "outputs": []
    },
    {
      "cell_type": "code",
      "metadata": {
        "id": "y5SW7jKvWZhl",
        "colab": {
          "base_uri": "https://localhost:8080/",
          "height": 845,
          "referenced_widgets": [
            "06ba5d0f9ed44ea88ebafa4d19374585",
            "88fce6d7980d46449ee1461489b51996",
            "d2b3b1a8c4714132b3ca464637eeb3a4",
            "20dba4acd2c7489e96b1231b833ce908",
            "ab6af896ef22442a9c9dc6618237efa0",
            "242a774a252c49a29d06bfa98dad3f22",
            "abec89bad5c54333b315f47c4563e36b",
            "7ae79c8662ad41ca8dc5812ed566c943",
            "e430a0a4000440a49fc075a86081441b",
            "945da7163d664b068cee312e472021da",
            "7910ca31a3c5444c9a161e9fa80f7c79",
            "440b9a6d16e0476b891b15b31b8e03e6",
            "ecd348b1c17e4a7dbb7d3bb0eb244c4d",
            "00b61954ea6a45aba0f8f7e7bf32988a",
            "dfca44b4959246d7ae0a58551da0c3dd",
            "93f6b28667dc4bd7ae10c8ce91f5be9b",
            "9208bedd33e843cfa9d249873162367b",
            "0d3394783bb34f958275262e7ec0948b",
            "20136f37a99d4d9581c881dbeca903c9",
            "3fd25e00ee544b74ba2a8e36252a63fd",
            "c7dc6238c2a746d3974001adba7d0872",
            "4da978b0089e4d81847847ce506c9c28",
            "495ac69e7713467c9fb384e815478f21",
            "e598606e541a48b5bbcba106d4b68c8b",
            "cd10776c19194d65b689df3ffb4f4ab1",
            "5ff82aee9a0c48bda6ae17a7374a6db0",
            "c945c76510cd4af99c7b2f3c8d43a1e5",
            "b151f01376a64d2ab279861d37e96ae9",
            "ff3fd05b52554a98b474e8a6fe122958",
            "23cf8f505f874bd2be64eb35c83df3a9",
            "20e4c53334da458e8cd63a3064be3f6c",
            "b4137ba5418f47fda0d70deb64f30755"
          ]
        },
        "outputId": "3666595e-b5f9-4707-e55d-26b653b9fa5e"
      },
      "source": [
        "# Define data augmentation\n",
        "train_transform = Compose([\n",
        "        transforms.GaussianBlur(kernel_size=15, sigma=(0.01,0.2)),\n",
        "        transforms.ColorJitter(brightness=0.1, saturation=0.1, hue=0.1), \n",
        "        transforms.RandomAffine(degrees=15, scale=(0.9,1.1)),\n",
        "        transforms.ToTensor(),\n",
        "        transforms.Normalize(mean=0.131, std=0.3085)\n",
        "    ])\n",
        "\n",
        "test_transform = Compose([\n",
        "    transforms.ToTensor()\n",
        "])\n",
        "\n",
        "# Load MNIST training and testing Dataset objects\n",
        "train_dataset = datasets.MNIST('./data', train=True, download=True,  # Downloads into a directory ../data\n",
        "                               transform=train_transform)\n",
        "# Take random subset of training data\n",
        "sample_size = len(train_dataset)//1\n",
        "train_dataset, unused_train_dataset = torch.utils.data.random_split(train_dataset, [sample_size, len(train_dataset)-sample_size])\n",
        "\n",
        "train_dataset_untransformed = datasets.MNIST('./data', train=True, download=True,  # Downloads into a directory ../data\n",
        "                               transform=test_transform)\n",
        "test_dataset = datasets.MNIST('./data', train=False, download=False,  # No need to download again\n",
        "                              transform=test_transform)"
      ],
      "execution_count": 3,
      "outputs": [
        {
          "output_type": "stream",
          "text": [
            "Downloading http://yann.lecun.com/exdb/mnist/train-images-idx3-ubyte.gz\n",
            "Failed to download (trying next):\n",
            "HTTP Error 503: Service Unavailable\n",
            "\n",
            "Downloading https://ossci-datasets.s3.amazonaws.com/mnist/train-images-idx3-ubyte.gz\n",
            "Downloading https://ossci-datasets.s3.amazonaws.com/mnist/train-images-idx3-ubyte.gz to ./data/MNIST/raw/train-images-idx3-ubyte.gz\n"
          ],
          "name": "stdout"
        },
        {
          "output_type": "display_data",
          "data": {
            "application/vnd.jupyter.widget-view+json": {
              "model_id": "06ba5d0f9ed44ea88ebafa4d19374585",
              "version_minor": 0,
              "version_major": 2
            },
            "text/plain": [
              "HBox(children=(FloatProgress(value=0.0, max=9912422.0), HTML(value='')))"
            ]
          },
          "metadata": {
            "tags": []
          }
        },
        {
          "output_type": "stream",
          "text": [
            "\n",
            "Extracting ./data/MNIST/raw/train-images-idx3-ubyte.gz to ./data/MNIST/raw\n",
            "\n",
            "Downloading http://yann.lecun.com/exdb/mnist/train-labels-idx1-ubyte.gz\n",
            "Failed to download (trying next):\n",
            "HTTP Error 503: Service Unavailable\n",
            "\n",
            "Downloading https://ossci-datasets.s3.amazonaws.com/mnist/train-labels-idx1-ubyte.gz\n",
            "Downloading https://ossci-datasets.s3.amazonaws.com/mnist/train-labels-idx1-ubyte.gz to ./data/MNIST/raw/train-labels-idx1-ubyte.gz\n"
          ],
          "name": "stdout"
        },
        {
          "output_type": "display_data",
          "data": {
            "application/vnd.jupyter.widget-view+json": {
              "model_id": "e430a0a4000440a49fc075a86081441b",
              "version_minor": 0,
              "version_major": 2
            },
            "text/plain": [
              "HBox(children=(FloatProgress(value=0.0, max=28881.0), HTML(value='')))"
            ]
          },
          "metadata": {
            "tags": []
          }
        },
        {
          "output_type": "stream",
          "text": [
            "\n",
            "Extracting ./data/MNIST/raw/train-labels-idx1-ubyte.gz to ./data/MNIST/raw\n",
            "\n",
            "Downloading http://yann.lecun.com/exdb/mnist/t10k-images-idx3-ubyte.gz\n",
            "Failed to download (trying next):\n",
            "HTTP Error 503: Service Unavailable\n",
            "\n",
            "Downloading https://ossci-datasets.s3.amazonaws.com/mnist/t10k-images-idx3-ubyte.gz\n",
            "Downloading https://ossci-datasets.s3.amazonaws.com/mnist/t10k-images-idx3-ubyte.gz to ./data/MNIST/raw/t10k-images-idx3-ubyte.gz\n"
          ],
          "name": "stdout"
        },
        {
          "output_type": "display_data",
          "data": {
            "application/vnd.jupyter.widget-view+json": {
              "model_id": "9208bedd33e843cfa9d249873162367b",
              "version_minor": 0,
              "version_major": 2
            },
            "text/plain": [
              "HBox(children=(FloatProgress(value=0.0, max=1648877.0), HTML(value='')))"
            ]
          },
          "metadata": {
            "tags": []
          }
        },
        {
          "output_type": "stream",
          "text": [
            "\n",
            "Extracting ./data/MNIST/raw/t10k-images-idx3-ubyte.gz to ./data/MNIST/raw\n",
            "\n",
            "Downloading http://yann.lecun.com/exdb/mnist/t10k-labels-idx1-ubyte.gz\n",
            "Failed to download (trying next):\n",
            "HTTP Error 503: Service Unavailable\n",
            "\n",
            "Downloading https://ossci-datasets.s3.amazonaws.com/mnist/t10k-labels-idx1-ubyte.gz\n",
            "Downloading https://ossci-datasets.s3.amazonaws.com/mnist/t10k-labels-idx1-ubyte.gz to ./data/MNIST/raw/t10k-labels-idx1-ubyte.gz\n"
          ],
          "name": "stdout"
        },
        {
          "output_type": "display_data",
          "data": {
            "application/vnd.jupyter.widget-view+json": {
              "model_id": "cd10776c19194d65b689df3ffb4f4ab1",
              "version_minor": 0,
              "version_major": 2
            },
            "text/plain": [
              "HBox(children=(FloatProgress(value=0.0, max=4542.0), HTML(value='')))"
            ]
          },
          "metadata": {
            "tags": []
          }
        },
        {
          "output_type": "stream",
          "text": [
            "\n",
            "Extracting ./data/MNIST/raw/t10k-labels-idx1-ubyte.gz to ./data/MNIST/raw\n",
            "\n",
            "Processing...\n",
            "Done!\n"
          ],
          "name": "stdout"
        },
        {
          "output_type": "stream",
          "text": [
            "/usr/local/lib/python3.7/dist-packages/torchvision/datasets/mnist.py:502: UserWarning: The given NumPy array is not writeable, and PyTorch does not support non-writeable tensors. This means you can write to the underlying (supposedly non-writeable) NumPy array using the tensor. You may want to copy the array to protect its data or make it writeable before converting it to a tensor. This type of warning will be suppressed for the rest of this program. (Triggered internally at  /pytorch/torch/csrc/utils/tensor_numpy.cpp:143.)\n",
            "  return torch.from_numpy(parsed.astype(m[2], copy=False)).view(*s)\n"
          ],
          "name": "stderr"
        }
      ]
    },
    {
      "cell_type": "code",
      "metadata": {
        "colab": {
          "base_uri": "https://localhost:8080/",
          "height": 282
        },
        "id": "srJF6fDpWZhm",
        "outputId": "ed117eb7-3599-4a17-b211-d4d6e9da4a77"
      },
      "source": [
        "# Visualize data augmentation\n",
        "import random\n",
        "plt.imshow(train_dataset[random.randint(0, len(train_dataset))][0][0].numpy())"
      ],
      "execution_count": null,
      "outputs": [
        {
          "output_type": "execute_result",
          "data": {
            "text/plain": [
              "<matplotlib.image.AxesImage at 0x7fb502b28750>"
            ]
          },
          "metadata": {
            "tags": []
          },
          "execution_count": 40
        },
        {
          "output_type": "display_data",
          "data": {
            "image/png": "[encoded data removed]",
            "text/plain": [
              "<Figure size 432x288 with 1 Axes>"
            ]
          },
          "metadata": {
            "tags": [],
            "needs_background": "light"
          }
        }
      ]
    },
    {
      "cell_type": "code",
      "metadata": {
        "id": "vuW5j88sWZhn"
      },
      "source": [
        "# Define training variables\n",
        "batch_size = 128\n",
        "test_batch_size = 128\n",
        "epochs = 10\n",
        "lr=1.0\n",
        "step=1\n",
        "gamma=0.7\n",
        "log_interval=10"
      ],
      "execution_count": 4,
      "outputs": []
    },
    {
      "cell_type": "code",
      "metadata": {
        "id": "4S_YFO9HWZhn"
      },
      "source": [
        "# Create a validation set by sampling 15% of each digit class from training dataset\n",
        "subset_indices_train = []\n",
        "subset_indices_valid = []\n",
        "labels = [train_dataset[row][1] for row in range(len(train_dataset))]\n",
        "for digit in range(0, 10):\n",
        "    indices = list(filter(lambda x: labels[x] == digit, range(len(labels))))\n",
        "    # randomly sample 15% for validation, rest for train\n",
        "    random.shuffle(indices)\n",
        "    split = int(0.15*len(indices))\n",
        "    subset_indices_valid.extend(indices[:split])\n",
        "    subset_indices_train.extend(indices[split:])\n",
        "\n",
        "train_loader = torch.utils.data.DataLoader(\n",
        "    train_dataset, batch_size=batch_size,\n",
        "    sampler=SubsetRandomSampler(subset_indices_train)\n",
        ")\n",
        "val_loader = torch.utils.data.DataLoader(\n",
        "    train_dataset, batch_size=test_batch_size,\n",
        "    sampler=SubsetRandomSampler(subset_indices_valid)\n",
        ")"
      ],
      "execution_count": 5,
      "outputs": []
    },
    {
      "cell_type": "code",
      "metadata": {
        "id": "j1YMxWsjWZho"
      },
      "source": [
        "# Define training and testing\n",
        "def train(model, device, train_loader, optimizer, epoch):\n",
        "    '''\n",
        "    This is your training function. When you call this function, the model is\n",
        "    trained for 1 epoch.\n",
        "    '''\n",
        "    model.train()   # Set the model to training mode\n",
        "    total = 0\n",
        "    correct = 0\n",
        "    train_loss = 0\n",
        "    for batch_idx, (data, target) in enumerate(train_loader):\n",
        "        data, target = data.to(device), target.to(device)\n",
        "        optimizer.zero_grad()               # Clear the gradient\n",
        "        output = model(data)                # Make predictions\n",
        "        loss = F.nll_loss(output, target)   # Compute loss\n",
        "        train_loss += F.nll_loss(output, target, reduction='sum').item()\n",
        "        loss.backward()                     # Gradient computation\n",
        "        optimizer.step()                    # Perform a single optimization step\n",
        "        # Compute accuracy\n",
        "        pred = output.argmax(dim=1, keepdim=True) # Predictions with max log-probability\n",
        "        total += len(data)\n",
        "        correct += pred.eq(target.view_as(pred)).sum().item()\n",
        "        if batch_idx % log_interval == 0:\n",
        "            print('Train Epoch: {} [{}/{} ({:.0f}%)]\\tLoss: {:.6f}\\tAccuracy: {:.6f}'.format(\n",
        "                epoch, batch_idx * len(data), len(train_loader.sampler),\n",
        "                100. * batch_idx / len(train_loader), loss.item(),\n",
        "                100. * correct / total))\n",
        "    train_loss /= total\n",
        "    accuracy = 100. * correct / total\n",
        "    print(\"Train Set Accuracy: \", accuracy)\n",
        "    return accuracy, loss\n",
        "\n",
        "def test(model, device, test_loader):\n",
        "    model.eval()    # Set the model to inference mode\n",
        "    test_loss = 0\n",
        "    correct = 0\n",
        "    test_num = 0\n",
        "    with torch.no_grad():   # For the inference step, gradient is not computed\n",
        "        for data, target in test_loader:\n",
        "            data, target = data.to(device), target.to(device)\n",
        "            output = model(data)\n",
        "            test_loss += F.nll_loss(output, target, reduction='sum').item()  # sum up batch loss\n",
        "            pred = output.argmax(dim=1, keepdim=True)  # get the index of the max log-probability\n",
        "            correct += pred.eq(target.view_as(pred)).sum().item()\n",
        "            test_num += len(data)\n",
        "\n",
        "    test_loss /= test_num\n",
        "    accuracy = 100. * correct / test_num\n",
        "    print('\\nTest set: Average loss: {:.4f}, Accuracy: {}/{} ({:.0f}%)\\n'.format(\n",
        "        test_loss, correct, test_num, accuracy))\n",
        "    \n",
        "    return accuracy, test_loss"
      ],
      "execution_count": 6,
      "outputs": []
    },
    {
      "cell_type": "code",
      "metadata": {
        "id": "SLMMJRiMWZhq"
      },
      "source": [
        "# Define Models\n",
        "\n",
        "class fcNet(nn.Module):\n",
        "    '''\n",
        "    Design your model with fully connected layers (convolutional layers are not\n",
        "    allowed here). Initial model is designed to have a poor performance. These\n",
        "    are the sample units you can try:\n",
        "        Linear, Dropout, activation layers (ReLU, softmax)\n",
        "    '''\n",
        "    def __init__(self):\n",
        "        # Define the units that you will use in your model\n",
        "        # Note that this has nothing to do with the order in which operations\n",
        "        # are applied - that is defined in the forward function below.\n",
        "        super(fcNet, self).__init__()\n",
        "        self.fc1 = nn.Linear(in_features=784, out_features=20)\n",
        "        self.fc2 = nn.Linear(20, 10)\n",
        "        self.dropout1 = nn.Dropout(p=0.5)\n",
        "\n",
        "    def forward(self, x):\n",
        "        # Define the sequence of operations your model will apply to an input x\n",
        "        x = torch.flatten(x, start_dim=1)\n",
        "        x = self.fc1(x)\n",
        "        x = F.relu(x)\n",
        "        x = self.dropout1(x)\n",
        "        x = F.relu(x)\n",
        "\n",
        "        output = F.log_softmax(x, dim=1)\n",
        "        return output\n",
        "\n",
        "# Default model\n",
        "class ConvNet(nn.Module):\n",
        "    '''\n",
        "    Design your model with convolutional layers.\n",
        "    '''\n",
        "    def __init__(self):\n",
        "        super(ConvNet, self).__init__()\n",
        "        self.conv1 = nn.Conv2d(in_channels=1, out_channels=8, kernel_size=(3,3), stride=1)\n",
        "        self.conv2 = nn.Conv2d(8, 8, 3, 1)\n",
        "        self.dropout1 = nn.Dropout2d(0.5)\n",
        "        self.dropout2 = nn.Dropout2d(0.5)\n",
        "        self.fc1 = nn.Linear(200, 64)\n",
        "        self.fc2 = nn.Linear(64, 10)\n",
        "\n",
        "    def forward(self, x):\n",
        "        # input shape = (1, 28, 28)\n",
        "        x = self.conv1(x) # [(28−3)/1]+1 --> 26x26x8\n",
        "        x = F.relu(x)\n",
        "        x = F.max_pool2d(x, 2) # 26 / 2 --> 13x13x8\n",
        "        x = self.dropout1(x)\n",
        "\n",
        "        x = self.conv2(x) # [(13-3)/1]+1 --> 11x11x8\n",
        "        x = F.relu(x)\n",
        "        x = F.max_pool2d(x, 2) # 11/2 --> 5x5x8\n",
        "        x = self.dropout2(x)\n",
        "\n",
        "        x = torch.flatten(x, 1) # 5x5x8 --> 200\n",
        "        x = self.fc1(x) # 200 --> 64\n",
        "        x = F.relu(x)\n",
        "        x = self.fc2(x) # 64 --> 10\n",
        "\n",
        "        output = F.log_softmax(x, dim=1)\n",
        "        return output\n",
        "\n",
        "''' Pytorch implementation of VGG16 network, which is very deep.'''\n",
        "class VGG(nn.Module):\n",
        "    def __init__(self):\n",
        "        super(VGG, self).__init__()\n",
        "        self.conv1 = nn.Sequential (\n",
        "            nn.Conv2d(in_channels=1, out_channels=64, kernel_size=(3,3), stride=1, padding=1),\n",
        "            nn.BatchNorm2d(64),\n",
        "            nn.Conv2d(64, 64, kernel_size=(3,3), stride=1, padding=1),\n",
        "            nn.BatchNorm2d(64),\n",
        "            nn.ReLU(0.5),\n",
        "            nn.MaxPool2d(2, stride=2),\n",
        "            nn.Dropout(0.5)\n",
        "        )\n",
        "        self.conv2 = nn.Sequential (\n",
        "            nn.Conv2d(64, 128, kernel_size=(3,3), stride=1, padding=1),\n",
        "            nn.BatchNorm2d(128),\n",
        "            nn.Conv2d(128, 128, kernel_size=(3,3), stride=1, padding=1),\n",
        "            nn.BatchNorm2d(128),\n",
        "            nn.ReLU(0.5),\n",
        "            nn.MaxPool2d(2, stride=2),\n",
        "            nn.Dropout(0.5)\n",
        "        )\n",
        "        self.conv3 = nn.Sequential (\n",
        "            nn.Conv2d(128, 512, kernel_size=(3,3), stride=1, padding=1),\n",
        "            nn.BatchNorm2d(512),\n",
        "            nn.Conv2d(512, 512, kernel_size=(3,3), stride=1, padding=1),\n",
        "            nn.BatchNorm2d(512),\n",
        "            nn.ReLU(0.5),\n",
        "            nn.MaxPool2d(2, stride=2),\n",
        "            nn.Dropout(0.5)\n",
        "        )\n",
        "        self.conv4 = nn.Sequential (\n",
        "            nn.Conv2d(512, 512, kernel_size=(3,3), stride=1, padding=1),\n",
        "            nn.BatchNorm2d(512),\n",
        "            nn.Conv2d(512, 512, kernel_size=(3,3), stride=1, padding=1),\n",
        "            nn.BatchNorm2d(512),\n",
        "            nn.ReLU(0.5),\n",
        "            nn.MaxPool2d(2, stride=2),\n",
        "            nn.Dropout(0.5)\n",
        "        )\n",
        "        self.fc1 = nn.Linear(512, 4096)\n",
        "        self.fc2 = nn.Linear(4096, 4096)\n",
        "        self.fc3 = nn.Linear(4096, 1000)\n",
        "\n",
        "    def forward(self, x):\n",
        "        # input shape = (1, 28, 28)\n",
        "        x = self.conv1(x) # [(28−3)/1]+1 --> 6x6x32\n",
        "        x = self.conv2(x) # [(13-3)/1]+1 --> 11x11x32\n",
        "        x = self.conv3(x)\n",
        "        x = self.conv4(x)\n",
        "\n",
        "        x = torch.flatten(x, 1) # 5x5x32 --> 800\n",
        "        x = self.fc1(x) # 200 --> 64\n",
        "        x = F.relu(x)\n",
        "        x = self.fc2(x) # 64 --> 10\n",
        "\n",
        "        output = F.log_softmax(x, dim=1)\n",
        "        return output\n",
        "\n",
        "# My Convolutional Neural Network (CNN) Model\n",
        "# Define Model using only...\n",
        "# Linear, Conv2d, MaxPool2d, AvgPool2d, ReLU, Softmax, BatchNorm2d, Dropout, Flatten\n",
        "class Net(nn.Module):\n",
        "    '''\n",
        "    Build the best MNIST classifier.\n",
        "    '''\n",
        "    def __init__(self):\n",
        "        super(Net, self).__init__()\n",
        "        self.conv1 = nn.Sequential (\n",
        "            nn.Conv2d(in_channels=1, out_channels=128, kernel_size=(3,3), stride=1, padding=1),\n",
        "            nn.BatchNorm2d(128),\n",
        "            nn.Conv2d(128, 128, kernel_size=(3,3), stride=1, padding=1),\n",
        "            nn.BatchNorm2d(128),\n",
        "            nn.ReLU(0.5),\n",
        "            nn.MaxPool2d(2, stride=2),\n",
        "            nn.Dropout(0.5)\n",
        "        )\n",
        "        self.conv2 = nn.Sequential (\n",
        "            nn.Conv2d(128, 128, kernel_size=(3,3), stride=1, padding=1),\n",
        "            nn.BatchNorm2d(128),\n",
        "            nn.Conv2d(128, 128, kernel_size=(3,3), stride=1, padding=1),\n",
        "            nn.BatchNorm2d(128),\n",
        "            nn.ReLU(0.5),\n",
        "            nn.MaxPool2d(2, stride=2),\n",
        "            nn.Dropout(0.5)\n",
        "        )\n",
        "        self.conv3 = nn.Sequential (\n",
        "            nn.Conv2d(128, 1028, kernel_size=(3,3), stride=1, padding=1),\n",
        "            nn.BatchNorm2d(1028),\n",
        "            nn.Conv2d(1028, 1028, kernel_size=(3,3), stride=1, padding=1),\n",
        "            nn.BatchNorm2d(1028),\n",
        "            nn.ReLU(0.5),\n",
        "            nn.MaxPool2d(2, stride=2),\n",
        "            nn.Dropout(0.5)\n",
        "        )\n",
        "\n",
        "        self.fc1 = nn.Linear(1028*3*3, 4096)\n",
        "        self.fc2 = nn.Linear(4096, 4096)\n",
        "        self.fc3 = nn.Linear(4096, 1000)\n",
        "\n",
        "    def forward(self, x):\n",
        "        # input shape = (1, 28, 28)\n",
        "        x = self.conv1(x) # [(28−3)/1]+1 --> 6x6x32\n",
        "        x = self.conv2(x) # [(13-3)/1]+1 --> 11x11x32\n",
        "        x = self.conv3(x)\n",
        "        #x = self.conv4(x)\n",
        "\n",
        "        x = torch.flatten(x, 1) # 5x5x32 --> 800\n",
        "        x = self.fc1(x) # 200 --> 64\n",
        "        x = F.relu(x)\n",
        "        x = self.fc2(x) # 64 --> 10\n",
        "\n",
        "        output = F.log_softmax(x, dim=1)\n",
        "        return output\n"
      ],
      "execution_count": 7,
      "outputs": []
    },
    {
      "cell_type": "code",
      "metadata": {
        "id": "ZpgU_0csy66e"
      },
      "source": [
        "''' Implementation from https://github.com/JayPatwardhan/ResNet-PyTorch/blob/master/ResNet/ResNet.py '''\n",
        "import torch\n",
        "import torch.nn as nn\n",
        "import torch.nn.functional as F\n",
        "\n",
        "class Bottleneck(nn.Module):\n",
        "    expansion = 4\n",
        "    def __init__(self, in_channels, out_channels, i_downsample=None, stride=1):\n",
        "        super(Bottleneck, self).__init__()\n",
        "        \n",
        "        self.conv1 = nn.Conv2d(in_channels, out_channels, kernel_size=1, stride=1, padding=0)\n",
        "        self.batch_norm1 = nn.BatchNorm2d(out_channels)\n",
        "        \n",
        "        self.conv2 = nn.Conv2d(out_channels, out_channels, kernel_size=3, stride=stride, padding=1)\n",
        "        self.batch_norm2 = nn.BatchNorm2d(out_channels)\n",
        "        \n",
        "        self.conv3 = nn.Conv2d(out_channels, out_channels*self.expansion, kernel_size=1, stride=1, padding=0)\n",
        "        self.batch_norm3 = nn.BatchNorm2d(out_channels*self.expansion)\n",
        "        \n",
        "        self.i_downsample = i_downsample\n",
        "        self.stride = stride\n",
        "        self.relu = nn.ReLU()\n",
        "        \n",
        "    def forward(self, x):\n",
        "        identity = x.clone()\n",
        "        x = self.relu(self.batch_norm1(self.conv1(x)))\n",
        "        \n",
        "        x = self.relu(self.batch_norm2(self.conv2(x)))\n",
        "        \n",
        "        x = self.conv3(x)\n",
        "        x = self.batch_norm3(x)\n",
        "        \n",
        "        #downsample if needed\n",
        "        if self.i_downsample is not None:\n",
        "            identity = self.i_downsample(identity)\n",
        "        #add identity\n",
        "        x+=identity\n",
        "        x=self.relu(x)\n",
        "        \n",
        "        return x\n",
        "\n",
        "class Block(nn.Module):\n",
        "    expansion = 1\n",
        "    def __init__(self, in_channels, out_channels, i_downsample=None, stride=1):\n",
        "        super(Block, self).__init__()\n",
        "       \n",
        "        self.conv1 = nn.Conv2d(in_channels, out_channels, kernel_size=3, padding=1, stride=stride, bias=False)\n",
        "        self.batch_norm1 = nn.BatchNorm2d(out_channels)\n",
        "        self.conv2 = nn.Conv2d(out_channels, out_channels, kernel_size=3, padding=1, stride=stride, bias=False)\n",
        "        self.batch_norm2 = nn.BatchNorm2d(out_channels)\n",
        "\n",
        "        self.i_downsample = i_downsample\n",
        "        self.stride = stride\n",
        "        self.relu = nn.ReLU()\n",
        "\n",
        "    def forward(self, x):\n",
        "      identity = x.clone()\n",
        "\n",
        "      x = self.relu(self.batch_norm2(self.conv1(x)))\n",
        "      x = self.batch_norm2(self.conv2(x))\n",
        "\n",
        "      if self.i_downsample is not None:\n",
        "          identity = self.i_downsample(identity)\n",
        "      print(x.shape)\n",
        "      print(identity.shape)\n",
        "      x += identity\n",
        "      x = self.relu(x)\n",
        "      return x\n",
        " \n",
        "class ResNet50(nn.Module):\n",
        "    def __init__(self, ResBlock, num_classes, num_channels=3):\n",
        "        super(ResNet50, self).__init__()\n",
        "        self.in_channels = 64\n",
        "        \n",
        "        self.conv1 = nn.Conv2d(num_channels, 64, kernel_size=7, stride=2, padding=3, bias=False)\n",
        "        self.batch_norm1 = nn.BatchNorm2d(64)\n",
        "        self.relu = nn.ReLU()\n",
        "        self.max_pool = nn.MaxPool2d(kernel_size = 3, stride=2, padding=1)\n",
        "        \n",
        "        self.layer1 = self._make_layer(ResBlock, 3, planes=64)\n",
        "        self.layer2 = self._make_layer(ResBlock, 4, planes=128, stride=2)\n",
        "        self.layer3 = self._make_layer(ResBlock, 6, planes=256, stride=2)\n",
        "        self.layer4 = self._make_layer(ResBlock, 3, planes=512, stride=2)\n",
        "        \n",
        "        self.avgpool = nn.AdaptiveAvgPool2d((1,1))\n",
        "        self.fc = nn.Linear(512*ResBlock.expansion, num_classes)\n",
        "        \n",
        "    def forward(self, x):\n",
        "        x = self.conv1(x)\n",
        "        x = self.batch_norm1(x)\n",
        "        x = self.relu(x)\n",
        "        x = self.max_pool(x)\n",
        "\n",
        "        x = self.layer1(x)\n",
        "        x = self.layer2(x)\n",
        "        x = self.layer3(x)\n",
        "        x = self.layer4(x)\n",
        "        \n",
        "        x = self.avgpool(x)\n",
        "        x = x.reshape(x.shape[0], -1)\n",
        "        x = self.fc(x)\n",
        "        \n",
        "        return x\n",
        "        \n",
        "    def _make_layer(self, ResBlock, blocks, planes, stride=1):\n",
        "        ii_downsample = None\n",
        "        layers = []\n",
        "        \n",
        "        if stride != 1 or self.in_channels != planes*ResBlock.expansion:\n",
        "            ii_downsample = nn.Sequential(\n",
        "                nn.Conv2d(self.in_channels, planes*ResBlock.expansion, kernel_size=1, stride=stride),\n",
        "                nn.BatchNorm2d(planes*ResBlock.expansion)\n",
        "            )\n",
        "            \n",
        "        layers.append(ResBlock(self.in_channels, planes, i_downsample=ii_downsample, stride=stride))\n",
        "        self.in_channels = planes*ResBlock.expansion\n",
        "        \n",
        "        for i in range(blocks-1):\n",
        "            layers.append(ResBlock(self.in_channels, planes))\n",
        "            \n",
        "        return nn.Sequential(*layers)\n",
        "    "
      ],
      "execution_count": 8,
      "outputs": []
    },
    {
      "cell_type": "code",
      "metadata": {
        "colab": {
          "base_uri": "https://localhost:8080/"
        },
        "id": "wXnUF6qCWZhr",
        "outputId": "16f981df-26f4-4ab9-b4be-89dc51232bfa"
      },
      "source": [
        "# Define model and print model summary\n",
        "device = torch.device(\"cuda\" if torch.cuda.is_available() else \"cpu\")\n",
        "\n",
        "# Default ConvNet()\n",
        "#model = ConvNet().to(device) # ConvNet() default\n",
        "#lr = 1\n",
        "#optimizer = optim.Adadelta(model.parameters(), lr=lr)\n",
        "\n",
        "# VGG16 \n",
        "#model = VGG16().to(device)\n",
        "#lr = 0.001\n",
        "#optimizer = optim.Adam(model.parameters(), lr=lr)\n",
        "\n",
        "# ResNet50\n",
        "#model = ResNet50(Bottleneck, num_classes=10, num_channels=1).to(device)\n",
        "#lr = 0.001\n",
        "#optimizer = optim.Adamax(model.parameters(), lr=lr)\n",
        "\n",
        "# Custom Model\n",
        "model = Net().to(device)\n",
        "lr = 0.001\n",
        "optimizer = optim.Adam(model.parameters(), lr=lr)\n",
        "\n",
        "print(\"Model Summary:\")\n",
        "summary.summary(model, (1, 28, 28))"
      ],
      "execution_count": 9,
      "outputs": [
        {
          "output_type": "stream",
          "text": [
            "Model Summary:\n",
            "----------------------------------------------------------------\n",
            "        Layer (type)               Output Shape         Param #\n",
            "================================================================\n",
            "            Conv2d-1          [-1, 128, 28, 28]           1,280\n",
            "       BatchNorm2d-2          [-1, 128, 28, 28]             256\n",
            "            Conv2d-3          [-1, 128, 28, 28]         147,584\n",
            "       BatchNorm2d-4          [-1, 128, 28, 28]             256\n",
            "              ReLU-5          [-1, 128, 28, 28]               0\n",
            "         MaxPool2d-6          [-1, 128, 14, 14]               0\n",
            "           Dropout-7          [-1, 128, 14, 14]               0\n",
            "            Conv2d-8          [-1, 128, 14, 14]         147,584\n",
            "       BatchNorm2d-9          [-1, 128, 14, 14]             256\n",
            "           Conv2d-10          [-1, 128, 14, 14]         147,584\n",
            "      BatchNorm2d-11          [-1, 128, 14, 14]             256\n",
            "             ReLU-12          [-1, 128, 14, 14]               0\n",
            "        MaxPool2d-13            [-1, 128, 7, 7]               0\n",
            "          Dropout-14            [-1, 128, 7, 7]               0\n",
            "           Conv2d-15           [-1, 1028, 7, 7]       1,185,284\n",
            "      BatchNorm2d-16           [-1, 1028, 7, 7]           2,056\n",
            "           Conv2d-17           [-1, 1028, 7, 7]       9,512,084\n",
            "      BatchNorm2d-18           [-1, 1028, 7, 7]           2,056\n",
            "             ReLU-19           [-1, 1028, 7, 7]               0\n",
            "        MaxPool2d-20           [-1, 1028, 3, 3]               0\n",
            "          Dropout-21           [-1, 1028, 3, 3]               0\n",
            "           Linear-22                 [-1, 4096]      37,900,288\n",
            "           Linear-23                 [-1, 4096]      16,781,312\n",
            "================================================================\n",
            "Total params: 65,828,136\n",
            "Trainable params: 65,828,136\n",
            "Non-trainable params: 0\n",
            "----------------------------------------------------------------\n",
            "Input size (MB): 0.00\n",
            "Forward/backward pass size (MB): 7.39\n",
            "Params size (MB): 251.11\n",
            "Estimated Total Size (MB): 258.51\n",
            "----------------------------------------------------------------\n"
          ],
          "name": "stdout"
        }
      ]
    },
    {
      "cell_type": "code",
      "metadata": {
        "scrolled": true,
        "colab": {
          "base_uri": "https://localhost:8080/"
        },
        "id": "ytic7y5uWZhs",
        "outputId": "98a0e394-efe5-4ad2-849c-9426ebb44b6c"
      },
      "source": [
        "# Set your learning rate scheduler\n",
        "scheduler = StepLR(optimizer, step_size=step, gamma=gamma)\n",
        "\n",
        "# Training loop\n",
        "train_acc, train_loss = [], []\n",
        "valid_acc, valid_loss = [], []\n",
        "prev_val_loss = 0\n",
        "for epoch in range(1, epochs + 1):\n",
        "    acc, loss = train(model, device, train_loader, optimizer, epoch)\n",
        "    train_acc.append(acc)\n",
        "    train_loss.append(loss)\n",
        "    acc, loss = test(model, device, val_loader)\n",
        "    valid_acc.append(acc)\n",
        "    valid_loss.append(loss)\n",
        "    #if epoch > 3 and loss < prev_val_loss:\n",
        "    #  break\n",
        "    prev_val_loss = loss\n",
        "    scheduler.step()    # learning rate scheduler\n",
        "\n",
        "    # You may optionally save your model at each epoch here\n"
      ],
      "execution_count": 10,
      "outputs": [
        {
          "output_type": "stream",
          "text": [
            "Train Epoch: 1 [0/51005 (0%)]\tLoss: 8.434336\tAccuracy: 0.000000\n",
            "Train Epoch: 1 [1280/51005 (3%)]\tLoss: 7.765247\tAccuracy: 10.866477\n",
            "Train Epoch: 1 [2560/51005 (5%)]\tLoss: 3.787027\tAccuracy: 13.318452\n",
            "Train Epoch: 1 [3840/51005 (8%)]\tLoss: 1.924505\tAccuracy: 15.700605\n",
            "Train Epoch: 1 [5120/51005 (10%)]\tLoss: 1.488327\tAccuracy: 21.570122\n",
            "Train Epoch: 1 [6400/51005 (13%)]\tLoss: 1.085057\tAccuracy: 27.941176\n",
            "Train Epoch: 1 [7680/51005 (15%)]\tLoss: 0.809530\tAccuracy: 34.336578\n",
            "Train Epoch: 1 [8960/51005 (18%)]\tLoss: 0.567380\tAccuracy: 40.426937\n",
            "Train Epoch: 1 [10240/51005 (20%)]\tLoss: 0.420068\tAccuracy: 45.650077\n",
            "Train Epoch: 1 [11520/51005 (23%)]\tLoss: 0.378638\tAccuracy: 49.939904\n",
            "Train Epoch: 1 [12800/51005 (25%)]\tLoss: 0.507765\tAccuracy: 53.681931\n",
            "Train Epoch: 1 [14080/51005 (28%)]\tLoss: 0.255019\tAccuracy: 56.756757\n",
            "Train Epoch: 1 [15360/51005 (30%)]\tLoss: 0.347665\tAccuracy: 59.394370\n",
            "Train Epoch: 1 [16640/51005 (33%)]\tLoss: 0.304437\tAccuracy: 61.754532\n",
            "Train Epoch: 1 [17920/51005 (35%)]\tLoss: 0.295649\tAccuracy: 63.807624\n",
            "Train Epoch: 1 [19200/51005 (38%)]\tLoss: 0.248247\tAccuracy: 65.666391\n",
            "Train Epoch: 1 [20480/51005 (40%)]\tLoss: 0.209424\tAccuracy: 67.371894\n",
            "Train Epoch: 1 [21760/51005 (43%)]\tLoss: 0.166239\tAccuracy: 68.877924\n",
            "Train Epoch: 1 [23040/51005 (45%)]\tLoss: 0.182503\tAccuracy: 70.148481\n",
            "Train Epoch: 1 [24320/51005 (48%)]\tLoss: 0.119272\tAccuracy: 71.314627\n",
            "Train Epoch: 1 [25600/51005 (50%)]\tLoss: 0.165217\tAccuracy: 72.380286\n",
            "Train Epoch: 1 [26880/51005 (53%)]\tLoss: 0.344855\tAccuracy: 73.274585\n",
            "Train Epoch: 1 [28160/51005 (55%)]\tLoss: 0.209122\tAccuracy: 74.186934\n",
            "Train Epoch: 1 [29440/51005 (58%)]\tLoss: 0.134033\tAccuracy: 75.071023\n",
            "Train Epoch: 1 [30720/51005 (60%)]\tLoss: 0.261982\tAccuracy: 75.839601\n",
            "Train Epoch: 1 [32000/51005 (63%)]\tLoss: 0.215011\tAccuracy: 76.500249\n",
            "Train Epoch: 1 [33280/51005 (65%)]\tLoss: 0.275455\tAccuracy: 77.179119\n",
            "Train Epoch: 1 [34560/51005 (68%)]\tLoss: 0.188137\tAccuracy: 77.718519\n",
            "Train Epoch: 1 [35840/51005 (70%)]\tLoss: 0.273683\tAccuracy: 78.305716\n",
            "Train Epoch: 1 [37120/51005 (73%)]\tLoss: 0.193402\tAccuracy: 78.895511\n",
            "Train Epoch: 1 [38400/51005 (75%)]\tLoss: 0.136243\tAccuracy: 79.438331\n",
            "Train Epoch: 1 [39680/51005 (78%)]\tLoss: 0.090824\tAccuracy: 79.933682\n",
            "Train Epoch: 1 [40960/51005 (80%)]\tLoss: 0.242264\tAccuracy: 80.417640\n",
            "Train Epoch: 1 [42240/51005 (83%)]\tLoss: 0.186057\tAccuracy: 80.848754\n",
            "Train Epoch: 1 [43520/51005 (85%)]\tLoss: 0.073089\tAccuracy: 81.286657\n",
            "Train Epoch: 1 [44800/51005 (88%)]\tLoss: 0.132859\tAccuracy: 81.699608\n",
            "Train Epoch: 1 [46080/51005 (90%)]\tLoss: 0.198643\tAccuracy: 82.085353\n",
            "Train Epoch: 1 [47360/51005 (93%)]\tLoss: 0.192731\tAccuracy: 82.452409\n",
            "Train Epoch: 1 [48640/51005 (95%)]\tLoss: 0.198875\tAccuracy: 82.806348\n",
            "Train Epoch: 1 [49920/51005 (98%)]\tLoss: 0.060252\tAccuracy: 83.116208\n",
            "Train Set Accuracy:  83.35065189687286\n",
            "\n",
            "Test set: Average loss: 0.1111, Accuracy: 8686/8995 (97%)\n",
            "\n",
            "Train Epoch: 2 [0/51005 (0%)]\tLoss: 0.169596\tAccuracy: 94.531250\n",
            "Train Epoch: 2 [1280/51005 (3%)]\tLoss: 0.192460\tAccuracy: 95.454545\n",
            "Train Epoch: 2 [2560/51005 (5%)]\tLoss: 0.109844\tAccuracy: 95.424107\n",
            "Train Epoch: 2 [3840/51005 (8%)]\tLoss: 0.126586\tAccuracy: 95.614919\n",
            "Train Epoch: 2 [5120/51005 (10%)]\tLoss: 0.178172\tAccuracy: 95.483994\n",
            "Train Epoch: 2 [6400/51005 (13%)]\tLoss: 0.202115\tAccuracy: 95.465686\n",
            "Train Epoch: 2 [7680/51005 (15%)]\tLoss: 0.138773\tAccuracy: 95.530225\n",
            "Train Epoch: 2 [8960/51005 (18%)]\tLoss: 0.182226\tAccuracy: 95.686620\n",
            "Train Epoch: 2 [10240/51005 (20%)]\tLoss: 0.057459\tAccuracy: 95.717593\n",
            "Train Epoch: 2 [11520/51005 (23%)]\tLoss: 0.055013\tAccuracy: 95.758929\n",
            "Train Epoch: 2 [12800/51005 (25%)]\tLoss: 0.152319\tAccuracy: 95.807550\n",
            "Train Epoch: 2 [14080/51005 (28%)]\tLoss: 0.107520\tAccuracy: 95.819257\n",
            "Train Epoch: 2 [15360/51005 (30%)]\tLoss: 0.096726\tAccuracy: 95.945248\n",
            "Train Epoch: 2 [16640/51005 (33%)]\tLoss: 0.163655\tAccuracy: 96.028149\n",
            "Train Epoch: 2 [17920/51005 (35%)]\tLoss: 0.128153\tAccuracy: 96.082668\n",
            "Train Epoch: 2 [19200/51005 (38%)]\tLoss: 0.130927\tAccuracy: 96.057533\n",
            "Train Epoch: 2 [20480/51005 (40%)]\tLoss: 0.193947\tAccuracy: 96.108307\n",
            "Train Epoch: 2 [21760/51005 (43%)]\tLoss: 0.175805\tAccuracy: 96.121162\n",
            "Train Epoch: 2 [23040/51005 (45%)]\tLoss: 0.161339\tAccuracy: 96.098066\n",
            "Train Epoch: 2 [24320/51005 (48%)]\tLoss: 0.049653\tAccuracy: 96.110111\n",
            "Train Epoch: 2 [25600/51005 (50%)]\tLoss: 0.112335\tAccuracy: 96.132618\n",
            "Train Epoch: 2 [26880/51005 (53%)]\tLoss: 0.078155\tAccuracy: 96.134479\n",
            "Train Epoch: 2 [28160/51005 (55%)]\tLoss: 0.080911\tAccuracy: 96.136171\n",
            "Train Epoch: 2 [29440/51005 (58%)]\tLoss: 0.062923\tAccuracy: 96.171537\n",
            "Train Epoch: 2 [30720/51005 (60%)]\tLoss: 0.143697\tAccuracy: 96.194243\n",
            "Train Epoch: 2 [32000/51005 (63%)]\tLoss: 0.245675\tAccuracy: 96.174676\n",
            "Train Epoch: 2 [33280/51005 (65%)]\tLoss: 0.055569\tAccuracy: 96.153616\n",
            "Train Epoch: 2 [34560/51005 (68%)]\tLoss: 0.163261\tAccuracy: 96.165821\n",
            "Train Epoch: 2 [35840/51005 (70%)]\tLoss: 0.162692\tAccuracy: 96.163256\n",
            "Train Epoch: 2 [37120/51005 (73%)]\tLoss: 0.145098\tAccuracy: 96.166237\n",
            "Train Epoch: 2 [38400/51005 (75%)]\tLoss: 0.196683\tAccuracy: 96.179402\n",
            "Train Epoch: 2 [39680/51005 (78%)]\tLoss: 0.143455\tAccuracy: 96.174136\n",
            "Train Epoch: 2 [40960/51005 (80%)]\tLoss: 0.120991\tAccuracy: 96.178933\n",
            "Train Epoch: 2 [42240/51005 (83%)]\tLoss: 0.169059\tAccuracy: 96.143316\n",
            "Train Epoch: 2 [43520/51005 (85%)]\tLoss: 0.199047\tAccuracy: 96.105205\n",
            "Train Epoch: 2 [44800/51005 (88%)]\tLoss: 0.105858\tAccuracy: 96.075944\n",
            "Train Epoch: 2 [46080/51005 (90%)]\tLoss: 0.159977\tAccuracy: 96.095914\n",
            "Train Epoch: 2 [47360/51005 (93%)]\tLoss: 0.173466\tAccuracy: 96.106385\n",
            "Train Epoch: 2 [48640/51005 (95%)]\tLoss: 0.069500\tAccuracy: 96.130659\n",
            "Train Epoch: 2 [49920/51005 (98%)]\tLoss: 0.063558\tAccuracy: 96.157689\n",
            "Train Set Accuracy:  96.16312126262132\n",
            "\n",
            "Test set: Average loss: 0.0704, Accuracy: 8791/8995 (98%)\n",
            "\n",
            "Train Epoch: 3 [0/51005 (0%)]\tLoss: 0.166224\tAccuracy: 95.312500\n",
            "Train Epoch: 3 [1280/51005 (3%)]\tLoss: 0.110842\tAccuracy: 97.372159\n",
            "Train Epoch: 3 [2560/51005 (5%)]\tLoss: 0.126504\tAccuracy: 97.098214\n",
            "Train Epoch: 3 [3840/51005 (8%)]\tLoss: 0.119801\tAccuracy: 97.152218\n",
            "Train Epoch: 3 [5120/51005 (10%)]\tLoss: 0.112243\tAccuracy: 97.065549\n",
            "Train Epoch: 3 [6400/51005 (13%)]\tLoss: 0.102043\tAccuracy: 97.120098\n",
            "Train Epoch: 3 [7680/51005 (15%)]\tLoss: 0.100259\tAccuracy: 97.092725\n",
            "Train Epoch: 3 [8960/51005 (18%)]\tLoss: 0.124364\tAccuracy: 97.007042\n",
            "Train Epoch: 3 [10240/51005 (20%)]\tLoss: 0.057371\tAccuracy: 96.932870\n",
            "Train Epoch: 3 [11520/51005 (23%)]\tLoss: 0.033989\tAccuracy: 97.029533\n",
            "Train Epoch: 3 [12800/51005 (25%)]\tLoss: 0.070598\tAccuracy: 97.099319\n",
            "Train Epoch: 3 [14080/51005 (28%)]\tLoss: 0.022062\tAccuracy: 97.121340\n",
            "Train Epoch: 3 [15360/51005 (30%)]\tLoss: 0.044501\tAccuracy: 97.120351\n",
            "Train Epoch: 3 [16640/51005 (33%)]\tLoss: 0.141599\tAccuracy: 97.095658\n",
            "Train Epoch: 3 [17920/51005 (35%)]\tLoss: 0.114769\tAccuracy: 97.163121\n",
            "Train Epoch: 3 [19200/51005 (38%)]\tLoss: 0.105091\tAccuracy: 97.206126\n",
            "Train Epoch: 3 [20480/51005 (40%)]\tLoss: 0.036127\tAccuracy: 97.200116\n",
            "Train Epoch: 3 [21760/51005 (43%)]\tLoss: 0.039779\tAccuracy: 97.235928\n",
            "Train Epoch: 3 [23040/51005 (45%)]\tLoss: 0.106240\tAccuracy: 97.224620\n",
            "Train Epoch: 3 [24320/51005 (48%)]\tLoss: 0.121295\tAccuracy: 97.230857\n",
            "Train Epoch: 3 [25600/51005 (50%)]\tLoss: 0.041436\tAccuracy: 97.224813\n",
            "Train Epoch: 3 [26880/51005 (53%)]\tLoss: 0.179340\tAccuracy: 97.226748\n",
            "Train Epoch: 3 [28160/51005 (55%)]\tLoss: 0.056004\tAccuracy: 97.239112\n",
            "Train Epoch: 3 [29440/51005 (58%)]\tLoss: 0.045971\tAccuracy: 97.267316\n",
            "Train Epoch: 3 [30720/51005 (60%)]\tLoss: 0.080387\tAccuracy: 97.270488\n",
            "Train Epoch: 3 [32000/51005 (63%)]\tLoss: 0.044277\tAccuracy: 97.257844\n",
            "Train Epoch: 3 [33280/51005 (65%)]\tLoss: 0.075430\tAccuracy: 97.285081\n",
            "Train Epoch: 3 [34560/51005 (68%)]\tLoss: 0.097656\tAccuracy: 97.295895\n",
            "Train Epoch: 3 [35840/51005 (70%)]\tLoss: 0.047190\tAccuracy: 97.297598\n",
            "Train Epoch: 3 [37120/51005 (73%)]\tLoss: 0.110021\tAccuracy: 97.301869\n",
            "Train Epoch: 3 [38400/51005 (75%)]\tLoss: 0.163108\tAccuracy: 97.274709\n",
            "Train Epoch: 3 [39680/51005 (78%)]\tLoss: 0.036363\tAccuracy: 97.279441\n",
            "Train Epoch: 3 [40960/51005 (80%)]\tLoss: 0.057305\tAccuracy: 97.320386\n",
            "Train Epoch: 3 [42240/51005 (83%)]\tLoss: 0.047960\tAccuracy: 97.311650\n",
            "Train Epoch: 3 [43520/51005 (85%)]\tLoss: 0.126147\tAccuracy: 97.330920\n",
            "Train Epoch: 3 [44800/51005 (88%)]\tLoss: 0.129559\tAccuracy: 97.326834\n",
            "Train Epoch: 3 [46080/51005 (90%)]\tLoss: 0.156700\tAccuracy: 97.297005\n",
            "Train Epoch: 3 [47360/51005 (93%)]\tLoss: 0.053719\tAccuracy: 97.315111\n",
            "Train Epoch: 3 [48640/51005 (95%)]\tLoss: 0.077404\tAccuracy: 97.315863\n",
            "Train Epoch: 3 [49920/51005 (98%)]\tLoss: 0.200879\tAccuracy: 97.290601\n",
            "Train Set Accuracy:  97.2943829036369\n",
            "\n",
            "Test set: Average loss: 0.0866, Accuracy: 8754/8995 (97%)\n",
            "\n",
            "Train Epoch: 4 [0/51005 (0%)]\tLoss: 0.080660\tAccuracy: 96.875000\n",
            "Train Epoch: 4 [1280/51005 (3%)]\tLoss: 0.131374\tAccuracy: 97.372159\n",
            "Train Epoch: 4 [2560/51005 (5%)]\tLoss: 0.110215\tAccuracy: 97.842262\n",
            "Train Epoch: 4 [3840/51005 (8%)]\tLoss: 0.080990\tAccuracy: 97.883065\n",
            "Train Epoch: 4 [5120/51005 (10%)]\tLoss: 0.090909\tAccuracy: 97.789634\n",
            "Train Epoch: 4 [6400/51005 (13%)]\tLoss: 0.073415\tAccuracy: 97.840074\n",
            "Train Epoch: 4 [7680/51005 (15%)]\tLoss: 0.261645\tAccuracy: 97.822746\n",
            "Train Epoch: 4 [8960/51005 (18%)]\tLoss: 0.101824\tAccuracy: 97.722271\n",
            "Train Epoch: 4 [10240/51005 (20%)]\tLoss: 0.127276\tAccuracy: 97.781636\n",
            "Train Epoch: 4 [11520/51005 (23%)]\tLoss: 0.073493\tAccuracy: 97.810783\n",
            "Train Epoch: 4 [12800/51005 (25%)]\tLoss: 0.024707\tAccuracy: 97.826423\n",
            "Train Epoch: 4 [14080/51005 (28%)]\tLoss: 0.087617\tAccuracy: 97.733671\n",
            "Train Epoch: 4 [15360/51005 (30%)]\tLoss: 0.075426\tAccuracy: 97.707903\n",
            "Train Epoch: 4 [16640/51005 (33%)]\tLoss: 0.198359\tAccuracy: 97.697996\n",
            "Train Epoch: 4 [17920/51005 (35%)]\tLoss: 0.060752\tAccuracy: 97.706117\n",
            "Train Epoch: 4 [19200/51005 (38%)]\tLoss: 0.049424\tAccuracy: 97.744205\n",
            "Train Epoch: 4 [20480/51005 (40%)]\tLoss: 0.021673\tAccuracy: 97.801825\n",
            "Train Epoch: 4 [21760/51005 (43%)]\tLoss: 0.051486\tAccuracy: 97.802449\n",
            "Train Epoch: 4 [23040/51005 (45%)]\tLoss: 0.128475\tAccuracy: 97.768474\n",
            "Train Epoch: 4 [24320/51005 (48%)]\tLoss: 0.075487\tAccuracy: 97.738056\n",
            "Train Epoch: 4 [25600/51005 (50%)]\tLoss: 0.073650\tAccuracy: 97.702892\n",
            "Train Epoch: 4 [26880/51005 (53%)]\tLoss: 0.029550\tAccuracy: 97.682168\n",
            "Train Epoch: 4 [28160/51005 (55%)]\tLoss: 0.123039\tAccuracy: 97.649180\n",
            "Train Epoch: 4 [29440/51005 (58%)]\tLoss: 0.080896\tAccuracy: 97.652868\n",
            "Train Epoch: 4 [30720/51005 (60%)]\tLoss: 0.047467\tAccuracy: 97.653008\n",
            "Train Epoch: 4 [32000/51005 (63%)]\tLoss: 0.129407\tAccuracy: 97.659363\n",
            "Train Epoch: 4 [33280/51005 (65%)]\tLoss: 0.086471\tAccuracy: 97.668223\n",
            "Train Epoch: 4 [34560/51005 (68%)]\tLoss: 0.073384\tAccuracy: 97.662016\n",
            "Train Epoch: 4 [35840/51005 (70%)]\tLoss: 0.035502\tAccuracy: 97.689613\n",
            "Train Epoch: 4 [37120/51005 (73%)]\tLoss: 0.023305\tAccuracy: 97.680412\n",
            "Train Epoch: 4 [38400/51005 (75%)]\tLoss: 0.034936\tAccuracy: 97.695183\n",
            "Train Epoch: 4 [39680/51005 (78%)]\tLoss: 0.054482\tAccuracy: 97.714027\n",
            "Train Epoch: 4 [40960/51005 (80%)]\tLoss: 0.065089\tAccuracy: 97.702492\n",
            "Train Epoch: 4 [42240/51005 (83%)]\tLoss: 0.041675\tAccuracy: 97.689294\n",
            "Train Epoch: 4 [43520/51005 (85%)]\tLoss: 0.112423\tAccuracy: 97.672287\n",
            "Train Epoch: 4 [44800/51005 (88%)]\tLoss: 0.075665\tAccuracy: 97.689637\n",
            "Train Epoch: 4 [46080/51005 (90%)]\tLoss: 0.104601\tAccuracy: 97.701697\n",
            "Train Epoch: 4 [47360/51005 (93%)]\tLoss: 0.070898\tAccuracy: 97.698366\n",
            "Train Epoch: 4 [48640/51005 (95%)]\tLoss: 0.016447\tAccuracy: 97.693159\n",
            "Train Epoch: 4 [49920/51005 (98%)]\tLoss: 0.048656\tAccuracy: 97.696212\n",
            "Train Set Accuracy:  97.71198902068424\n",
            "\n",
            "Test set: Average loss: 0.0544, Accuracy: 8837/8995 (98%)\n",
            "\n",
            "Train Epoch: 5 [0/51005 (0%)]\tLoss: 0.069236\tAccuracy: 98.437500\n",
            "Train Epoch: 5 [1280/51005 (3%)]\tLoss: 0.040259\tAccuracy: 98.224432\n",
            "Train Epoch: 5 [2560/51005 (5%)]\tLoss: 0.025064\tAccuracy: 98.214286\n",
            "Train Epoch: 5 [3840/51005 (8%)]\tLoss: 0.101626\tAccuracy: 98.135081\n",
            "Train Epoch: 5 [5120/51005 (10%)]\tLoss: 0.062167\tAccuracy: 98.075457\n",
            "Train Epoch: 5 [6400/51005 (13%)]\tLoss: 0.055198\tAccuracy: 98.177083\n",
            "Train Epoch: 5 [7680/51005 (15%)]\tLoss: 0.019000\tAccuracy: 98.130123\n",
            "Train Epoch: 5 [8960/51005 (18%)]\tLoss: 0.094286\tAccuracy: 98.096391\n",
            "Train Epoch: 5 [10240/51005 (20%)]\tLoss: 0.078622\tAccuracy: 98.013117\n",
            "Train Epoch: 5 [11520/51005 (23%)]\tLoss: 0.049528\tAccuracy: 97.999657\n",
            "Train Epoch: 5 [12800/51005 (25%)]\tLoss: 0.042322\tAccuracy: 98.050743\n",
            "Train Epoch: 5 [14080/51005 (28%)]\tLoss: 0.123277\tAccuracy: 98.036318\n",
            "Train Epoch: 5 [15360/51005 (30%)]\tLoss: 0.082159\tAccuracy: 98.050103\n",
            "Train Epoch: 5 [16640/51005 (33%)]\tLoss: 0.057919\tAccuracy: 98.031966\n",
            "Train Epoch: 5 [17920/51005 (35%)]\tLoss: 0.029081\tAccuracy: 98.016401\n",
            "Train Epoch: 5 [19200/51005 (38%)]\tLoss: 0.111973\tAccuracy: 98.018419\n",
            "Train Epoch: 5 [20480/51005 (40%)]\tLoss: 0.091489\tAccuracy: 98.005629\n",
            "Train Epoch: 5 [21760/51005 (43%)]\tLoss: 0.043399\tAccuracy: 97.998904\n",
            "Train Epoch: 5 [23040/51005 (45%)]\tLoss: 0.045617\tAccuracy: 98.001554\n",
            "Train Epoch: 5 [24320/51005 (48%)]\tLoss: 0.030110\tAccuracy: 98.044830\n",
            "Train Epoch: 5 [25600/51005 (50%)]\tLoss: 0.041519\tAccuracy: 98.060479\n",
            "Train Epoch: 5 [26880/51005 (53%)]\tLoss: 0.079707\tAccuracy: 98.030213\n",
            "Train Epoch: 5 [28160/51005 (55%)]\tLoss: 0.104911\tAccuracy: 97.995617\n",
            "Train Epoch: 5 [29440/51005 (58%)]\tLoss: 0.116821\tAccuracy: 98.014746\n",
            "Train Epoch: 5 [30720/51005 (60%)]\tLoss: 0.091600\tAccuracy: 98.025804\n",
            "Train Epoch: 5 [32000/51005 (63%)]\tLoss: 0.018166\tAccuracy: 98.032869\n",
            "Train Epoch: 5 [33280/51005 (65%)]\tLoss: 0.040025\tAccuracy: 98.033405\n",
            "Train Epoch: 5 [34560/51005 (68%)]\tLoss: 0.047351\tAccuracy: 98.033902\n",
            "Train Epoch: 5 [35840/51005 (70%)]\tLoss: 0.059240\tAccuracy: 98.014902\n",
            "Train Epoch: 5 [37120/51005 (73%)]\tLoss: 0.063242\tAccuracy: 97.991838\n",
            "Train Epoch: 5 [38400/51005 (75%)]\tLoss: 0.072680\tAccuracy: 97.991071\n",
            "Train Epoch: 5 [39680/51005 (78%)]\tLoss: 0.021332\tAccuracy: 97.972769\n",
            "Train Epoch: 5 [40960/51005 (80%)]\tLoss: 0.063856\tAccuracy: 97.972644\n",
            "Train Epoch: 5 [42240/51005 (83%)]\tLoss: 0.072565\tAccuracy: 97.993769\n",
            "Train Epoch: 5 [43520/51005 (85%)]\tLoss: 0.035386\tAccuracy: 97.997617\n",
            "Train Epoch: 5 [44800/51005 (88%)]\tLoss: 0.057584\tAccuracy: 98.010150\n",
            "Train Epoch: 5 [46080/51005 (90%)]\tLoss: 0.046388\tAccuracy: 98.021988\n",
            "Train Epoch: 5 [47360/51005 (93%)]\tLoss: 0.043265\tAccuracy: 98.020553\n",
            "Train Epoch: 5 [48640/51005 (95%)]\tLoss: 0.050696\tAccuracy: 98.027395\n",
            "Train Epoch: 5 [49920/51005 (98%)]\tLoss: 0.074766\tAccuracy: 98.007912\n",
            "Train Set Accuracy:  98.01392020390158\n",
            "\n",
            "Test set: Average loss: 0.0481, Accuracy: 8852/8995 (98%)\n",
            "\n",
            "Train Epoch: 6 [0/51005 (0%)]\tLoss: 0.097669\tAccuracy: 97.656250\n",
            "Train Epoch: 6 [1280/51005 (3%)]\tLoss: 0.016781\tAccuracy: 99.076705\n",
            "Train Epoch: 6 [2560/51005 (5%)]\tLoss: 0.032500\tAccuracy: 98.400298\n",
            "Train Epoch: 6 [3840/51005 (8%)]\tLoss: 0.112414\tAccuracy: 98.286290\n",
            "Train Epoch: 6 [5120/51005 (10%)]\tLoss: 0.021168\tAccuracy: 98.304116\n",
            "Train Epoch: 6 [6400/51005 (13%)]\tLoss: 0.042278\tAccuracy: 98.345588\n",
            "Train Epoch: 6 [7680/51005 (15%)]\tLoss: 0.020225\tAccuracy: 98.424693\n",
            "Train Epoch: 6 [8960/51005 (18%)]\tLoss: 0.010644\tAccuracy: 98.525528\n",
            "Train Epoch: 6 [10240/51005 (20%)]\tLoss: 0.115778\tAccuracy: 98.427855\n",
            "Train Epoch: 6 [11520/51005 (23%)]\tLoss: 0.039698\tAccuracy: 98.446085\n",
            "Train Epoch: 6 [12800/51005 (25%)]\tLoss: 0.134200\tAccuracy: 98.398824\n",
            "Train Epoch: 6 [14080/51005 (28%)]\tLoss: 0.057024\tAccuracy: 98.423423\n",
            "Train Epoch: 6 [15360/51005 (30%)]\tLoss: 0.034479\tAccuracy: 98.385847\n",
            "Train Epoch: 6 [16640/51005 (33%)]\tLoss: 0.089951\tAccuracy: 98.330153\n",
            "Train Epoch: 6 [17920/51005 (35%)]\tLoss: 0.061516\tAccuracy: 98.332225\n",
            "Train Epoch: 6 [19200/51005 (38%)]\tLoss: 0.065370\tAccuracy: 98.318502\n",
            "Train Epoch: 6 [20480/51005 (40%)]\tLoss: 0.064565\tAccuracy: 98.345303\n",
            "Train Epoch: 6 [21760/51005 (43%)]\tLoss: 0.029519\tAccuracy: 98.318713\n",
            "Train Epoch: 6 [23040/51005 (45%)]\tLoss: 0.130749\tAccuracy: 98.299378\n",
            "Train Epoch: 6 [24320/51005 (48%)]\tLoss: 0.017462\tAccuracy: 98.298429\n",
            "Train Epoch: 6 [25600/51005 (50%)]\tLoss: 0.009537\tAccuracy: 98.320896\n",
            "Train Epoch: 6 [26880/51005 (53%)]\tLoss: 0.038345\tAccuracy: 98.315314\n",
            "Train Epoch: 6 [28160/51005 (55%)]\tLoss: 0.021413\tAccuracy: 98.334983\n",
            "Train Epoch: 6 [29440/51005 (58%)]\tLoss: 0.070071\tAccuracy: 98.298837\n",
            "Train Epoch: 6 [30720/51005 (60%)]\tLoss: 0.071076\tAccuracy: 98.294865\n",
            "Train Epoch: 6 [32000/51005 (63%)]\tLoss: 0.059302\tAccuracy: 98.272535\n",
            "Train Epoch: 6 [33280/51005 (65%)]\tLoss: 0.029835\tAccuracy: 98.263889\n",
            "Train Epoch: 6 [34560/51005 (68%)]\tLoss: 0.007995\tAccuracy: 98.281827\n",
            "Train Epoch: 6 [35840/51005 (70%)]\tLoss: 0.008421\tAccuracy: 98.265125\n",
            "Train Epoch: 6 [37120/51005 (73%)]\tLoss: 0.086047\tAccuracy: 98.265679\n",
            "Train Epoch: 6 [38400/51005 (75%)]\tLoss: 0.014956\tAccuracy: 98.276578\n",
            "Train Epoch: 6 [39680/51005 (78%)]\tLoss: 0.060693\tAccuracy: 98.274216\n",
            "Train Epoch: 6 [40960/51005 (80%)]\tLoss: 0.102730\tAccuracy: 98.272002\n",
            "Train Epoch: 6 [42240/51005 (83%)]\tLoss: 0.024423\tAccuracy: 98.277002\n",
            "Train Epoch: 6 [43520/51005 (85%)]\tLoss: 0.043565\tAccuracy: 98.290872\n",
            "Train Epoch: 6 [44800/51005 (88%)]\tLoss: 0.087145\tAccuracy: 98.295050\n",
            "Train Epoch: 6 [46080/51005 (90%)]\tLoss: 0.049815\tAccuracy: 98.290339\n",
            "Train Epoch: 6 [47360/51005 (93%)]\tLoss: 0.101189\tAccuracy: 98.285883\n",
            "Train Epoch: 6 [48640/51005 (95%)]\tLoss: 0.042903\tAccuracy: 98.293963\n",
            "Train Epoch: 6 [49920/51005 (98%)]\tLoss: 0.151989\tAccuracy: 98.289642\n",
            "Train Set Accuracy:  98.29624546613077\n",
            "\n",
            "Test set: Average loss: 0.0477, Accuracy: 8866/8995 (99%)\n",
            "\n",
            "Train Epoch: 7 [0/51005 (0%)]\tLoss: 0.032212\tAccuracy: 99.218750\n",
            "Train Epoch: 7 [1280/51005 (3%)]\tLoss: 0.009586\tAccuracy: 98.721591\n",
            "Train Epoch: 7 [2560/51005 (5%)]\tLoss: 0.017552\tAccuracy: 98.772321\n",
            "Train Epoch: 7 [3840/51005 (8%)]\tLoss: 0.029536\tAccuracy: 98.639113\n",
            "Train Epoch: 7 [5120/51005 (10%)]\tLoss: 0.034124\tAccuracy: 98.628049\n",
            "Train Epoch: 7 [6400/51005 (13%)]\tLoss: 0.061343\tAccuracy: 98.606005\n",
            "Train Epoch: 7 [7680/51005 (15%)]\tLoss: 0.031908\tAccuracy: 98.655225\n",
            "Train Epoch: 7 [8960/51005 (18%)]\tLoss: 0.030468\tAccuracy: 98.602553\n",
            "Train Epoch: 7 [10240/51005 (20%)]\tLoss: 0.022873\tAccuracy: 98.620756\n",
            "Train Epoch: 7 [11520/51005 (23%)]\tLoss: 0.016047\tAccuracy: 98.617788\n",
            "Train Epoch: 7 [12800/51005 (25%)]\tLoss: 0.098678\tAccuracy: 98.568998\n",
            "Train Epoch: 7 [14080/51005 (28%)]\tLoss: 0.069077\tAccuracy: 98.543074\n",
            "Train Epoch: 7 [15360/51005 (30%)]\tLoss: 0.101869\tAccuracy: 98.508523\n",
            "Train Epoch: 7 [16640/51005 (33%)]\tLoss: 0.069889\tAccuracy: 98.509065\n",
            "Train Epoch: 7 [17920/51005 (35%)]\tLoss: 0.034863\tAccuracy: 98.509530\n",
            "Train Epoch: 7 [19200/51005 (38%)]\tLoss: 0.081803\tAccuracy: 98.509934\n",
            "Train Epoch: 7 [20480/51005 (40%)]\tLoss: 0.015440\tAccuracy: 98.500582\n",
            "Train Epoch: 7 [21760/51005 (43%)]\tLoss: 0.062899\tAccuracy: 98.487756\n",
            "Train Epoch: 7 [23040/51005 (45%)]\tLoss: 0.030488\tAccuracy: 98.480663\n",
            "Train Epoch: 7 [24320/51005 (48%)]\tLoss: 0.006473\tAccuracy: 98.498855\n",
            "Train Epoch: 7 [25600/51005 (50%)]\tLoss: 0.026332\tAccuracy: 98.519123\n",
            "Train Epoch: 7 [26880/51005 (53%)]\tLoss: 0.056845\tAccuracy: 98.500444\n",
            "Train Epoch: 7 [28160/51005 (55%)]\tLoss: 0.009077\tAccuracy: 98.511736\n",
            "Train Epoch: 7 [29440/51005 (58%)]\tLoss: 0.017801\tAccuracy: 98.518669\n",
            "Train Epoch: 7 [30720/51005 (60%)]\tLoss: 0.073844\tAccuracy: 98.495851\n",
            "Train Epoch: 7 [32000/51005 (63%)]\tLoss: 0.032406\tAccuracy: 98.499751\n",
            "Train Epoch: 7 [33280/51005 (65%)]\tLoss: 0.052439\tAccuracy: 98.479406\n",
            "Train Epoch: 7 [34560/51005 (68%)]\tLoss: 0.052346\tAccuracy: 98.474977\n",
            "Train Epoch: 7 [35840/51005 (70%)]\tLoss: 0.086897\tAccuracy: 98.476423\n",
            "Train Epoch: 7 [37120/51005 (73%)]\tLoss: 0.006632\tAccuracy: 98.483140\n",
            "Train Epoch: 7 [38400/51005 (75%)]\tLoss: 0.049280\tAccuracy: 98.489410\n",
            "Train Epoch: 7 [39680/51005 (78%)]\tLoss: 0.025019\tAccuracy: 98.485229\n",
            "Train Epoch: 7 [40960/51005 (80%)]\tLoss: 0.013882\tAccuracy: 98.500779\n",
            "Train Epoch: 7 [42240/51005 (83%)]\tLoss: 0.013818\tAccuracy: 98.498867\n",
            "Train Epoch: 7 [43520/51005 (85%)]\tLoss: 0.045676\tAccuracy: 98.526851\n",
            "Train Epoch: 7 [44800/51005 (88%)]\tLoss: 0.034507\tAccuracy: 98.533209\n",
            "Train Epoch: 7 [46080/51005 (90%)]\tLoss: 0.050641\tAccuracy: 98.526229\n",
            "Train Epoch: 7 [47360/51005 (93%)]\tLoss: 0.052521\tAccuracy: 98.536472\n",
            "Train Epoch: 7 [48640/51005 (95%)]\tLoss: 0.044368\tAccuracy: 98.525673\n",
            "Train Epoch: 7 [49920/51005 (98%)]\tLoss: 0.016779\tAccuracy: 98.537404\n",
            "Train Set Accuracy:  98.53543770218606\n",
            "\n",
            "Test set: Average loss: 0.0371, Accuracy: 8901/8995 (99%)\n",
            "\n",
            "Train Epoch: 8 [0/51005 (0%)]\tLoss: 0.068426\tAccuracy: 98.437500\n",
            "Train Epoch: 8 [1280/51005 (3%)]\tLoss: 0.064521\tAccuracy: 98.863636\n",
            "Train Epoch: 8 [2560/51005 (5%)]\tLoss: 0.013963\tAccuracy: 98.660714\n",
            "Train Epoch: 8 [3840/51005 (8%)]\tLoss: 0.063636\tAccuracy: 98.588710\n",
            "Train Epoch: 8 [5120/51005 (10%)]\tLoss: 0.033888\tAccuracy: 98.666159\n",
            "Train Epoch: 8 [6400/51005 (13%)]\tLoss: 0.043627\tAccuracy: 98.651961\n",
            "Train Epoch: 8 [7680/51005 (15%)]\tLoss: 0.025172\tAccuracy: 98.552766\n",
            "Train Epoch: 8 [8960/51005 (18%)]\tLoss: 0.044411\tAccuracy: 98.646567\n",
            "Train Epoch: 8 [10240/51005 (20%)]\tLoss: 0.036581\tAccuracy: 98.659336\n",
            "Train Epoch: 8 [11520/51005 (23%)]\tLoss: 0.057163\tAccuracy: 98.660714\n",
            "Train Epoch: 8 [12800/51005 (25%)]\tLoss: 0.064383\tAccuracy: 98.677290\n",
            "Train Epoch: 8 [14080/51005 (28%)]\tLoss: 0.027907\tAccuracy: 98.676802\n",
            "Train Epoch: 8 [15360/51005 (30%)]\tLoss: 0.012522\tAccuracy: 98.657025\n",
            "Train Epoch: 8 [16640/51005 (33%)]\tLoss: 0.015955\tAccuracy: 98.634303\n",
            "Train Epoch: 8 [17920/51005 (35%)]\tLoss: 0.031090\tAccuracy: 98.636968\n",
            "Train Epoch: 8 [19200/51005 (38%)]\tLoss: 0.043543\tAccuracy: 98.613411\n",
            "Train Epoch: 8 [20480/51005 (40%)]\tLoss: 0.017632\tAccuracy: 98.597632\n",
            "Train Epoch: 8 [21760/51005 (43%)]\tLoss: 0.060562\tAccuracy: 98.579130\n",
            "Train Epoch: 8 [23040/51005 (45%)]\tLoss: 0.078391\tAccuracy: 98.588570\n",
            "Train Epoch: 8 [24320/51005 (48%)]\tLoss: 0.009963\tAccuracy: 98.597022\n",
            "Train Epoch: 8 [25600/51005 (50%)]\tLoss: 0.017741\tAccuracy: 98.596859\n",
            "Train Epoch: 8 [26880/51005 (53%)]\tLoss: 0.066311\tAccuracy: 98.589307\n",
            "Train Epoch: 8 [28160/51005 (55%)]\tLoss: 0.014256\tAccuracy: 98.575368\n",
            "Train Epoch: 8 [29440/51005 (58%)]\tLoss: 0.062569\tAccuracy: 98.566017\n",
            "Train Epoch: 8 [30720/51005 (60%)]\tLoss: 0.108429\tAccuracy: 98.537993\n",
            "Train Epoch: 8 [32000/51005 (63%)]\tLoss: 0.031246\tAccuracy: 98.552664\n",
            "Train Epoch: 8 [33280/51005 (65%)]\tLoss: 0.045912\tAccuracy: 98.563218\n",
            "Train Epoch: 8 [34560/51005 (68%)]\tLoss: 0.084819\tAccuracy: 98.561462\n",
            "Train Epoch: 8 [35840/51005 (70%)]\tLoss: 0.064776\tAccuracy: 98.570952\n",
            "Train Epoch: 8 [37120/51005 (73%)]\tLoss: 0.026121\tAccuracy: 98.582474\n",
            "Train Epoch: 8 [38400/51005 (75%)]\tLoss: 0.017846\tAccuracy: 98.582849\n",
            "Train Epoch: 8 [39680/51005 (78%)]\tLoss: 0.026111\tAccuracy: 98.593248\n",
            "Train Epoch: 8 [40960/51005 (80%)]\tLoss: 0.051492\tAccuracy: 98.588396\n",
            "Train Epoch: 8 [42240/51005 (83%)]\tLoss: 0.018001\tAccuracy: 98.588557\n",
            "Train Epoch: 8 [43520/51005 (85%)]\tLoss: 0.021052\tAccuracy: 98.586419\n",
            "Train Epoch: 8 [44800/51005 (88%)]\tLoss: 0.018685\tAccuracy: 98.586627\n",
            "Train Epoch: 8 [46080/51005 (90%)]\tLoss: 0.011209\tAccuracy: 98.593317\n",
            "Train Epoch: 8 [47360/51005 (93%)]\tLoss: 0.042619\tAccuracy: 98.582800\n",
            "Train Epoch: 8 [48640/51005 (95%)]\tLoss: 0.020486\tAccuracy: 98.583087\n",
            "Train Epoch: 8 [49920/51005 (98%)]\tLoss: 0.054465\tAccuracy: 98.585358\n",
            "Train Set Accuracy:  98.59033428095285\n",
            "\n",
            "Test set: Average loss: 0.0348, Accuracy: 8906/8995 (99%)\n",
            "\n",
            "Train Epoch: 9 [0/51005 (0%)]\tLoss: 0.020406\tAccuracy: 99.218750\n",
            "Train Epoch: 9 [1280/51005 (3%)]\tLoss: 0.029349\tAccuracy: 98.934659\n",
            "Train Epoch: 9 [2560/51005 (5%)]\tLoss: 0.067223\tAccuracy: 98.735119\n",
            "Train Epoch: 9 [3840/51005 (8%)]\tLoss: 0.043910\tAccuracy: 98.664315\n",
            "Train Epoch: 9 [5120/51005 (10%)]\tLoss: 0.060330\tAccuracy: 98.589939\n",
            "Train Epoch: 9 [6400/51005 (13%)]\tLoss: 0.025228\tAccuracy: 98.606005\n",
            "Train Epoch: 9 [7680/51005 (15%)]\tLoss: 0.068387\tAccuracy: 98.578381\n",
            "Train Epoch: 9 [8960/51005 (18%)]\tLoss: 0.023446\tAccuracy: 98.580546\n",
            "Train Epoch: 9 [10240/51005 (20%)]\tLoss: 0.069583\tAccuracy: 98.659336\n",
            "Train Epoch: 9 [11520/51005 (23%)]\tLoss: 0.038617\tAccuracy: 98.703640\n",
            "Train Epoch: 9 [12800/51005 (25%)]\tLoss: 0.013863\tAccuracy: 98.762376\n",
            "Train Epoch: 9 [14080/51005 (28%)]\tLoss: 0.025761\tAccuracy: 98.789414\n",
            "Train Epoch: 9 [15360/51005 (30%)]\tLoss: 0.012724\tAccuracy: 98.811983\n",
            "Train Epoch: 9 [16640/51005 (33%)]\tLoss: 0.011648\tAccuracy: 98.807252\n",
            "Train Epoch: 9 [17920/51005 (35%)]\tLoss: 0.041102\tAccuracy: 98.797651\n",
            "Train Epoch: 9 [19200/51005 (38%)]\tLoss: 0.016317\tAccuracy: 98.789321\n",
            "Train Epoch: 9 [20480/51005 (40%)]\tLoss: 0.024938\tAccuracy: 98.791731\n",
            "Train Epoch: 9 [21760/51005 (43%)]\tLoss: 0.038201\tAccuracy: 98.798428\n",
            "Train Epoch: 9 [23040/51005 (45%)]\tLoss: 0.087988\tAccuracy: 98.761222\n",
            "Train Epoch: 9 [24320/51005 (48%)]\tLoss: 0.048421\tAccuracy: 98.768815\n",
            "Train Epoch: 9 [25600/51005 (50%)]\tLoss: 0.017648\tAccuracy: 98.740672\n",
            "Train Epoch: 9 [26880/51005 (53%)]\tLoss: 0.014941\tAccuracy: 98.726303\n",
            "Train Epoch: 9 [28160/51005 (55%)]\tLoss: 0.086127\tAccuracy: 98.699095\n",
            "Train Epoch: 9 [29440/51005 (58%)]\tLoss: 0.076068\tAccuracy: 98.701299\n",
            "Train Epoch: 9 [30720/51005 (60%)]\tLoss: 0.046819\tAccuracy: 98.690353\n",
            "Train Epoch: 9 [32000/51005 (63%)]\tLoss: 0.034928\tAccuracy: 98.698954\n",
            "Train Epoch: 9 [33280/51005 (65%)]\tLoss: 0.020513\tAccuracy: 98.709890\n",
            "Train Epoch: 9 [34560/51005 (68%)]\tLoss: 0.014481\tAccuracy: 98.722901\n",
            "Train Epoch: 9 [35840/51005 (70%)]\tLoss: 0.009490\tAccuracy: 98.732206\n",
            "Train Epoch: 9 [37120/51005 (73%)]\tLoss: 0.022461\tAccuracy: 98.735503\n",
            "Train Epoch: 9 [38400/51005 (75%)]\tLoss: 0.047479\tAccuracy: 98.733389\n",
            "Train Epoch: 9 [39680/51005 (78%)]\tLoss: 0.018313\tAccuracy: 98.723875\n",
            "Train Epoch: 9 [40960/51005 (80%)]\tLoss: 0.065972\tAccuracy: 98.724688\n",
            "Train Epoch: 9 [42240/51005 (83%)]\tLoss: 0.033066\tAccuracy: 98.737255\n",
            "Train Epoch: 9 [43520/51005 (85%)]\tLoss: 0.035993\tAccuracy: 98.735337\n",
            "Train Epoch: 9 [44800/51005 (88%)]\tLoss: 0.039160\tAccuracy: 98.726852\n",
            "Train Epoch: 9 [46080/51005 (90%)]\tLoss: 0.080801\tAccuracy: 98.731821\n",
            "Train Epoch: 9 [47360/51005 (93%)]\tLoss: 0.038253\tAccuracy: 98.725994\n",
            "Train Epoch: 9 [48640/51005 (95%)]\tLoss: 0.026477\tAccuracy: 98.738927\n",
            "Train Epoch: 9 [49920/51005 (98%)]\tLoss: 0.013033\tAccuracy: 98.753197\n",
            "Train Set Accuracy:  98.74914224095677\n",
            "\n",
            "Test set: Average loss: 0.0358, Accuracy: 8888/8995 (99%)\n",
            "\n",
            "Train Epoch: 10 [0/51005 (0%)]\tLoss: 0.031650\tAccuracy: 99.218750\n",
            "Train Epoch: 10 [1280/51005 (3%)]\tLoss: 0.015920\tAccuracy: 98.792614\n",
            "Train Epoch: 10 [2560/51005 (5%)]\tLoss: 0.032873\tAccuracy: 98.511905\n",
            "Train Epoch: 10 [3840/51005 (8%)]\tLoss: 0.012717\tAccuracy: 98.513105\n",
            "Train Epoch: 10 [5120/51005 (10%)]\tLoss: 0.036671\tAccuracy: 98.589939\n",
            "Train Epoch: 10 [6400/51005 (13%)]\tLoss: 0.034502\tAccuracy: 98.621324\n",
            "Train Epoch: 10 [7680/51005 (15%)]\tLoss: 0.022708\tAccuracy: 98.668033\n",
            "Train Epoch: 10 [8960/51005 (18%)]\tLoss: 0.035660\tAccuracy: 98.646567\n",
            "Train Epoch: 10 [10240/51005 (20%)]\tLoss: 0.005725\tAccuracy: 98.707562\n",
            "Train Epoch: 10 [11520/51005 (23%)]\tLoss: 0.004878\tAccuracy: 98.720810\n",
            "Train Epoch: 10 [12800/51005 (25%)]\tLoss: 0.054777\tAccuracy: 98.754641\n",
            "Train Epoch: 10 [14080/51005 (28%)]\tLoss: 0.075326\tAccuracy: 98.747185\n",
            "Train Epoch: 10 [15360/51005 (30%)]\tLoss: 0.033909\tAccuracy: 98.760331\n",
            "Train Epoch: 10 [16640/51005 (33%)]\tLoss: 0.027267\tAccuracy: 98.741651\n",
            "Train Epoch: 10 [17920/51005 (35%)]\tLoss: 0.025528\tAccuracy: 98.736702\n",
            "Train Epoch: 10 [19200/51005 (38%)]\tLoss: 0.026018\tAccuracy: 98.753104\n",
            "Train Epoch: 10 [20480/51005 (40%)]\tLoss: 0.022828\tAccuracy: 98.757764\n",
            "Train Epoch: 10 [21760/51005 (43%)]\tLoss: 0.109058\tAccuracy: 98.743604\n",
            "Train Epoch: 10 [23040/51005 (45%)]\tLoss: 0.019002\tAccuracy: 98.765539\n",
            "Train Epoch: 10 [24320/51005 (48%)]\tLoss: 0.019273\tAccuracy: 98.756545\n",
            "Train Epoch: 10 [25600/51005 (50%)]\tLoss: 0.047788\tAccuracy: 98.775653\n",
            "Train Epoch: 10 [26880/51005 (53%)]\tLoss: 0.066066\tAccuracy: 98.781842\n",
            "Train Epoch: 10 [28160/51005 (55%)]\tLoss: 0.054162\tAccuracy: 98.773331\n",
            "Train Epoch: 10 [29440/51005 (58%)]\tLoss: 0.063929\tAccuracy: 98.775703\n",
            "Train Epoch: 10 [30720/51005 (60%)]\tLoss: 0.007967\tAccuracy: 98.781120\n",
            "Train Epoch: 10 [32000/51005 (63%)]\tLoss: 0.118183\tAccuracy: 98.773655\n",
            "Train Epoch: 10 [33280/51005 (65%)]\tLoss: 0.036449\tAccuracy: 98.757783\n",
            "Train Epoch: 10 [34560/51005 (68%)]\tLoss: 0.042604\tAccuracy: 98.751730\n",
            "Train Epoch: 10 [35840/51005 (70%)]\tLoss: 0.041520\tAccuracy: 98.743327\n",
            "Train Epoch: 10 [37120/51005 (73%)]\tLoss: 0.103038\tAccuracy: 98.735503\n",
            "Train Epoch: 10 [38400/51005 (75%)]\tLoss: 0.039211\tAccuracy: 98.728198\n",
            "Train Epoch: 10 [39680/51005 (78%)]\tLoss: 0.083327\tAccuracy: 98.723875\n",
            "Train Epoch: 10 [40960/51005 (80%)]\tLoss: 0.007727\tAccuracy: 98.744159\n",
            "Train Epoch: 10 [42240/51005 (83%)]\tLoss: 0.052656\tAccuracy: 98.732534\n",
            "Train Epoch: 10 [43520/51005 (85%)]\tLoss: 0.008858\tAccuracy: 98.739919\n",
            "Train Epoch: 10 [44800/51005 (88%)]\tLoss: 0.036045\tAccuracy: 98.742432\n",
            "Train Epoch: 10 [46080/51005 (90%)]\tLoss: 0.014397\tAccuracy: 98.740478\n",
            "Train Epoch: 10 [47360/51005 (93%)]\tLoss: 0.053953\tAccuracy: 98.742840\n",
            "Train Epoch: 10 [48640/51005 (95%)]\tLoss: 0.011507\tAccuracy: 98.740978\n",
            "Train Epoch: 10 [49920/51005 (98%)]\tLoss: 0.030551\tAccuracy: 98.745205\n",
            "Train Set Accuracy:  98.7530634251544\n",
            "\n",
            "Test set: Average loss: 0.0335, Accuracy: 8890/8995 (99%)\n",
            "\n"
          ],
          "name": "stdout"
        }
      ]
    },
    {
      "cell_type": "code",
      "metadata": {
        "id": "LWkbtjQi0ds5"
      },
      "source": [
        "torch.save(model.state_dict(), \"mnist_model_0.0625.pt\")"
      ],
      "execution_count": null,
      "outputs": []
    },
    {
      "cell_type": "code",
      "metadata": {
        "colab": {
          "base_uri": "https://localhost:8080/",
          "height": 216
        },
        "id": "Y8xW51QtWZht",
        "outputId": "788e0753-cc17-4035-da5a-15cff2cc04d3"
      },
      "source": [
        "# Plot loss and accuracy curves\n",
        "fig, (ax1, ax2) = plt.subplots(figsize=(18, 5), ncols=2)\n",
        "ax1.plot(range(1, len(train_acc) + 1), train_acc, label='Train Accuracy')\n",
        "ax1.plot(range(1, len(valid_acc) + 1), valid_acc, label='Validation Accuracy')\n",
        "ax1.legend()\n",
        "ax1.set_title('Accuracy vs. Epoch')\n",
        "ax2.plot(range(1, len(train_loss) + 1), train_loss, label='Train Loss')\n",
        "ax2.plot(range(1, len(valid_loss) + 1), valid_loss, label='Validation Loss')\n",
        "ax2.legend()\n",
        "ax2.set_title('Loss vs. Epoch')\n",
        "plt.show()"
      ],
      "execution_count": null,
      "outputs": [
        {
          "output_type": "display_data",
          "data": {
            "image/png": "[encoded data removed]",
            "text/plain": [
              "<Figure size 1296x360 with 2 Axes>"
            ]
          },
          "metadata": {
            "tags": [],
            "needs_background": "light"
          }
        }
      ]
    },
    {
      "cell_type": "markdown",
      "metadata": {
        "id": "tAI0rDiKNkia"
      },
      "source": [
        "## Evalutate Model on Test Set"
      ]
    },
    {
      "cell_type": "code",
      "metadata": {
        "id": "roNDa0L3NkJr"
      },
      "source": [
        "def test(model, device, test_loader):\n",
        "    model.eval()    # Set the model to inference mode\n",
        "    test_loss = 0\n",
        "    correct = 0\n",
        "    test_num = 0\n",
        "    with torch.no_grad():   # For the inference step, gradient is not computed\n",
        "        for data, target in test_loader:\n",
        "            data, target = data.to(device), target.to(device)\n",
        "            output = model(data)\n",
        "            test_loss += F.nll_loss(output, target, reduction='sum').item()  # sum up batch loss\n",
        "            pred = output.argmax(dim=1, keepdim=True)  # get the index of the max log-probability\n",
        "            correct += pred.eq(target.view_as(pred)).sum().item()\n",
        "            test_num += len(data)\n",
        "\n",
        "    test_loss /= test_num\n",
        "    accuracy = 100. * correct / test_num\n",
        "    print('\\nTest set: Average loss: {:.4f}, Accuracy: {}/{} ({:.0f}%)\\n'.format(\n",
        "        test_loss, correct, test_num, accuracy))\n",
        "    \n",
        "    return accuracy, test_loss"
      ],
      "execution_count": 11,
      "outputs": []
    },
    {
      "cell_type": "code",
      "metadata": {
        "colab": {
          "base_uri": "https://localhost:8080/"
        },
        "id": "qLYEB8QJWZht",
        "outputId": "09417bdf-1a4a-414d-bbb2-e752850855e2"
      },
      "source": [
        "# Evaluate on the official test set\n",
        "#model = Net().to(device)\n",
        "#model.load_state_dict(torch.load('/content/mnist_model_best.pt'))\n",
        "\n",
        "test_dataset = datasets.MNIST('./data', train=False,\n",
        "            transform=transforms.Compose([\n",
        "                transforms.ToTensor(),\n",
        "                transforms.Normalize((0.1307,), (0.3081,))\n",
        "            ]), download=True)\n",
        "\n",
        "test_loader = torch.utils.data.DataLoader(\n",
        "    test_dataset, batch_size=test_batch_size, shuffle=True)\n",
        "\n",
        "test(model, device, test_loader)"
      ],
      "execution_count": 12,
      "outputs": [
        {
          "output_type": "stream",
          "text": [
            "\n",
            "Test set: Average loss: 0.0178, Accuracy: 9934/10000 (99%)\n",
            "\n"
          ],
          "name": "stdout"
        },
        {
          "output_type": "execute_result",
          "data": {
            "text/plain": [
              "(99.34, 0.017811098368093373)"
            ]
          },
          "metadata": {
            "tags": []
          },
          "execution_count": 12
        }
      ]
    },
    {
      "cell_type": "markdown",
      "metadata": {
        "id": "D0fWnxYnXu5t"
      },
      "source": [
        "## Plot Train and Test Error vs. Number of Training Examples"
      ]
    },
    {
      "cell_type": "code",
      "metadata": {
        "colab": {
          "base_uri": "https://localhost:8080/",
          "height": 513
        },
        "id": "PPDIy2WyXz0T",
        "outputId": "a63485b2-66cb-4a93-f000-c488a5154006"
      },
      "source": [
        "x_labels = [20000*frac for frac in [1, 0.5, 0.25, 0.125, 0.0625]] # Number of training examples\n",
        "train_err = [0.0157, 0.0468, 0.0635, 0.1151, 0.2788]\n",
        "test_err = [0.0228, 0.0254, 0.0406, 0.0767, 0.2105]\n",
        "\n",
        "fig, ax = plt.subplots(figsize=(12,8))\n",
        "plt.loglog(x_labels, train_err, label='Train Error')\n",
        "plt.loglog(x_labels, test_err, label='Test Error')\n",
        "plt.legend()\n",
        "plt.xlabel('Number of Training Samples')\n",
        "ax.set_xticks(np.arange(1000, 23000, 3000))\n",
        "ax.set_xticklabels(np.arange(1000, 23000, 3000))\n",
        "plt.ylabel('Error')\n",
        "plt.yticks(np.arange(0, 1, 10))\n",
        "plt.title('Error vs. Number of Training Samples')\n",
        "plt.show()"
      ],
      "execution_count": null,
      "outputs": [
        {
          "output_type": "display_data",
          "data": {
            "image/png": "[encoded data removed]",
            "text/plain": [
              "<Figure size 864x576 with 1 Axes>"
            ]
          },
          "metadata": {
            "tags": [],
            "needs_background": "light"
          }
        }
      ]
    },
    {
      "cell_type": "markdown",
      "metadata": {
        "id": "bC5C957aKi8l"
      },
      "source": [
        "## Show examples of correct and incorrect detections"
      ]
    },
    {
      "cell_type": "code",
      "metadata": {
        "colab": {
          "base_uri": "https://localhost:8080/",
          "height": 1000
        },
        "id": "GOgJy0KlcEN1",
        "outputId": "3e00886a-45d4-46bd-c406-98a17b1cc540"
      },
      "source": [
        "count_incorrect = 0\n",
        "\n",
        "with torch.no_grad():\n",
        "    for data, targets in test_loader:\n",
        "      if count_incorrect >= 10:\n",
        "          break\n",
        "      data, targets = data.to(device), targets.to(device)\n",
        "      output = model(data)\n",
        "      preds = output.argmax(dim=1, keepdim=True)\n",
        "      for i in range(len(preds)):\n",
        "        pred, target = preds[i], targets[i]\n",
        "        if pred != target:\n",
        "            count_incorrect += 1\n",
        "            # Show incorrect prediction\n",
        "            plt.imshow(data[i][0].cpu().data)\n",
        "            target_label = str(target.cpu().data.numpy())\n",
        "            pred_label = str(pred.cpu().data.numpy()[0])\n",
        "            plt.title(\"True Value = \"+target_label+\", Predicted Value = \"+pred_label)\n",
        "            plt.show()"
      ],
      "execution_count": 41,
      "outputs": [
        {
          "output_type": "display_data",
          "data": {
            "image/png": "[encoded data removed]",
            "text/plain": [
              "<Figure size 432x288 with 1 Axes>"
            ]
          },
          "metadata": {
            "tags": [],
            "needs_background": "light"
          }
        },
        {
          "output_type": "display_data",
          "data": {
            "image/png": "[encoded data removed]",
            "text/plain": [
              "<Figure size 432x288 with 1 Axes>"
            ]
          },
          "metadata": {
            "tags": [],
            "needs_background": "light"
          }
        },
        {
          "output_type": "display_data",
          "data": {
            "image/png": "[encoded data removed]",
            "text/plain": [
              "<Figure size 432x288 with 1 Axes>"
            ]
          },
          "metadata": {
            "tags": [],
            "needs_background": "light"
          }
        },
        {
          "output_type": "display_data",
          "data": {
            "image/png": "[encoded data removed]",
            "text/plain": [
              "<Figure size 432x288 with 1 Axes>"
            ]
          },
          "metadata": {
            "tags": [],
            "needs_background": "light"
          }
        },
        {
          "output_type": "display_data",
          "data": {
            "image/png": "[encoded data removed]",
            "text/plain": [
              "<Figure size 432x288 with 1 Axes>"
            ]
          },
          "metadata": {
            "tags": [],
            "needs_background": "light"
          }
        },
        {
          "output_type": "display_data",
          "data": {
            "image/png": "[encoded data removed]",
            "text/plain": [
              "<Figure size 432x288 with 1 Axes>"
            ]
          },
          "metadata": {
            "tags": [],
            "needs_background": "light"
          }
        },
        {
          "output_type": "display_data",
          "data": {
            "image/png": "[encoded data removed]",
            "text/plain": [
              "<Figure size 432x288 with 1 Axes>"
            ]
          },
          "metadata": {
            "tags": [],
            "needs_background": "light"
          }
        },
        {
          "output_type": "display_data",
          "data": {
            "image/png": "[encoded data removed]",
            "text/plain": [
              "<Figure size 432x288 with 1 Axes>"
            ]
          },
          "metadata": {
            "tags": [],
            "needs_background": "light"
          }
        },
        {
          "output_type": "display_data",
          "data": {
            "image/png": "[encoded data removed]",
            "text/plain": [
              "<Figure size 432x288 with 1 Axes>"
            ]
          },
          "metadata": {
            "tags": [],
            "needs_background": "light"
          }
        },
        {
          "output_type": "display_data",
          "data": {
            "image/png": "[encoded data removed]",
            "text/plain": [
              "<Figure size 432x288 with 1 Axes>"
            ]
          },
          "metadata": {
            "tags": [],
            "needs_background": "light"
          }
        }
      ]
    },
    {
      "cell_type": "markdown",
      "metadata": {
        "id": "X6Zl8MGuTxbG"
      },
      "source": [
        "## Confusion Matrix"
      ]
    },
    {
      "cell_type": "code",
      "metadata": {
        "colab": {
          "base_uri": "https://localhost:8080/"
        },
        "id": "EMDy23ZsTxGB",
        "outputId": "55407222-2c84-4da4-973f-7bba22489545"
      },
      "source": [
        "from sklearn.metrics import confusion_matrix\n",
        "\n",
        "imgs = []\n",
        "true_labels = []\n",
        "pred_labels = []\n",
        "with torch.no_grad():   # For the inference step, gradient is not computed\n",
        "    for data, target in test_loader:\n",
        "        data, target = data.to(device), target.to(device)\n",
        "        output = model(data)\n",
        "        pred = output.argmax(dim=1, keepdim=True)  # get the index of the max log-probability\n",
        "        \n",
        "        true_labels.extend(list(target.cpu().data.numpy()))\n",
        "        pred_labels.extend(list(pred.cpu().data.numpy()))\n",
        "        imgs.extend(list(data.cpu().data.numpy()))\n",
        "\n",
        "confusion_matrix(true_labels, pred_labels, labels=range(0, 10))       "
      ],
      "execution_count": 83,
      "outputs": [
        {
          "output_type": "execute_result",
          "data": {
            "text/plain": [
              "array([[ 978,    0,    0,    0,    0,    0,    1,    1,    0,    0],\n",
              "       [   0, 1133,    0,    0,    0,    0,    1,    1,    0,    0],\n",
              "       [   1,    0, 1026,    0,    0,    0,    0,    5,    0,    0],\n",
              "       [   0,    0,    2, 1004,    0,    4,    0,    0,    0,    0],\n",
              "       [   0,    0,    0,    0,  976,    0,    0,    0,    0,    6],\n",
              "       [   1,    0,    0,    6,    0,  884,    1,    0,    0,    0],\n",
              "       [   3,    3,    0,    0,    2,    0,  949,    0,    1,    0],\n",
              "       [   0,    2,    2,    1,    0,    0,    0, 1023,    0,    0],\n",
              "       [   2,    1,    3,    1,    0,    0,    1,    1,  961,    4],\n",
              "       [   0,    0,    0,    0,    5,    2,    0,    1,    1, 1000]])"
            ]
          },
          "metadata": {
            "tags": []
          },
          "execution_count": 83
        }
      ]
    },
    {
      "cell_type": "markdown",
      "metadata": {
        "id": "rvi-rl2cWjne"
      },
      "source": [
        "## tSNE"
      ]
    },
    {
      "cell_type": "code",
      "metadata": {
        "colab": {
          "base_uri": "https://localhost:8080/"
        },
        "id": "p7Y1y5QDhD7m",
        "outputId": "f7a653d4-5984-42b9-ad32-1f3fafbc023d"
      },
      "source": [
        "from sklearn.manifold import TSNE\n",
        "imgs_reshape = np.reshape(np.array(imgs), (len(imgs), 28*28))\n",
        "print(np.array(imgs_reshape).shape)\n",
        "print(np.array(pred_labels).shape)\n",
        "#features = np.concatenate(imgs_reshape, pred_labels)\n",
        "tsne = TSNE(n_components=2).fit_transform(imgs_reshape)\n",
        "print(np.array(tsne).shape)"
      ],
      "execution_count": 84,
      "outputs": [
        {
          "output_type": "stream",
          "text": [
            "(10000, 784)\n",
            "(10000, 1)\n",
            "(10000, 2)\n"
          ],
          "name": "stdout"
        }
      ]
    },
    {
      "cell_type": "code",
      "metadata": {
        "colab": {
          "base_uri": "https://localhost:8080/",
          "height": 281
        },
        "id": "BS0sEzCpmKg4",
        "outputId": "51d263cf-7160-4448-be23-08d0101df703"
      },
      "source": [
        "# scale and move the coordinates so they fit [0; 1] range\n",
        "def scale_to_01_range(x):\n",
        "    # compute the distribution range\n",
        "    value_range = (np.max(x) - np.min(x))\n",
        "\n",
        "    # move the distribution so that it starts from zero\n",
        "    # by extracting the minimal value from all its values\n",
        "    starts_from_zero = x - np.min(x)\n",
        "\n",
        "    # make the distribution fit [0; 1] by dividing by its range\n",
        "    return starts_from_zero / value_range\n",
        "\n",
        "# extract x and y coordinates representing the positions of the images on T-SNE plot\n",
        "tx = tsne[:, 0]\n",
        "ty = tsne[:, 1]\n",
        "\n",
        "tx = scale_to_01_range(tx)\n",
        "ty = scale_to_01_range(ty)\n",
        "\n",
        "# initialize a matplotlib plot\n",
        "fig = plt.figure()\n",
        "ax = fig.add_subplot(111)\n",
        "\n",
        "def random_color():\n",
        "    rgbl=[255,0,0]\n",
        "    random.shuffle(rgbl)\n",
        "    return rgbl\n",
        "\n",
        "# for every class, we'll add a scatter plot separately\n",
        "for label in range(0, 10):\n",
        "    # find the samples of the current class in the data\n",
        "    indices = [i for i, l in enumerate(true_labels) if l == label]\n",
        "\n",
        "    # extract the coordinates of the points of this class only\n",
        "    current_tx = np.take(tx, indices)\n",
        "    current_ty = np.take(ty, indices)\n",
        "\n",
        "    # convert the class color to matplotlib format\n",
        "    rgb = (random.random(), random.random(), random.random())\n",
        "\n",
        "    # add a scatter plot with the corresponding color and label\n",
        "    ax.scatter(current_tx, current_ty, c=[rgb], label=label)\n",
        "\n",
        "# build a legend using the labels we set previously\n",
        "ax.legend(loc='best')\n",
        "\n",
        "# finally, show the plot\n",
        "plt.title('TSNE of MNIST Digits Test Dataset')\n",
        "plt.show()"
      ],
      "execution_count": 85,
      "outputs": [
        {
          "output_type": "display_data",
          "data": {
            "image/png": "[encoded data removed]",
            "text/plain": [
              "<Figure size 432x288 with 1 Axes>"
            ]
          },
          "metadata": {
            "tags": [],
            "needs_background": "light"
          }
        }
      ]
    },
    {
      "cell_type": "markdown",
      "metadata": {
        "id": "I7piE-6oo9TB"
      },
      "source": [
        "## Similar Test Images"
      ]
    },
    {
      "cell_type": "code",
      "metadata": {
        "colab": {
          "base_uri": "https://localhost:8080/",
          "height": 1000
        },
        "id": "qDF_rPRKo_kd",
        "outputId": "fdfbc162-de20-4079-dc71-48824e899954"
      },
      "source": [
        "from sklearn.metrics.pairwise import euclidean_distances\n",
        "n = 4\n",
        "for i in range(n):\n",
        "    rand_idx = random.randint(0, len(imgs))\n",
        "    target_img = imgs[rand_idx]\n",
        "    target_coords = tsne[rand_idx]\n",
        "\n",
        "    plt.imshow(np.reshape(target_img, (28, 28)))\n",
        "    plt.title(\"Random Image from Test Set\")\n",
        "    plt.show()\n",
        "    plt.savefig('target' + str(i) +'.png')\n",
        "\n",
        "    # Get closest images by coordinates\n",
        "    distances = euclidean_distances(tsne, [target_coords])\n",
        "    zipped = zip(distances.flatten(), imgs)\n",
        "    sorted_pairs = sorted(list(zipped), key = lambda x: x[0])\n",
        "    tuples = zip(*sorted_pairs)\n",
        "    distances, closest_imgs = [ list(t) for t in tuples]\n",
        "\n",
        "    fig, axs = plt.subplots(figsize=(10, 6), ncols=8)\n",
        "    for i in range(len(axs)):\n",
        "      axs[i].imshow(np.reshape(closest_imgs[i+1], (28,28))) # +1 in order to skip itself with distance 0\n",
        "      print(distances[i+1])\n",
        "    #plt.title(\"Closest Images\", y=1.08)\n",
        "    plt.show()\n",
        "    plt.savefig('closest' + str(i) +'.png')\n",
        "      "
      ],
      "execution_count": 90,
      "outputs": [
        {
          "output_type": "display_data",
          "data": {
            "image/png": "[encoded data removed]",
            "text/plain": [
              "<Figure size 432x288 with 1 Axes>"
            ]
          },
          "metadata": {
            "tags": [],
            "needs_background": "light"
          }
        },
        {
          "output_type": "stream",
          "text": [
            "0.13665678\n",
            "0.19308138\n",
            "0.42875522\n",
            "0.6186228\n",
            "1.1414397\n",
            "1.2138646\n",
            "1.3096248\n",
            "1.799321\n"
          ],
          "name": "stdout"
        },
        {
          "output_type": "display_data",
          "data": {
            "text/plain": [
              "<Figure size 432x288 with 0 Axes>"
            ]
          },
          "metadata": {
            "tags": []
          }
        },
        {
          "output_type": "display_data",
          "data": {
            "image/png": "[encoded data removed]",
            "text/plain": [
              "<Figure size 720x432 with 8 Axes>"
            ]
          },
          "metadata": {
            "tags": [],
            "needs_background": "light"
          }
        },
        {
          "output_type": "display_data",
          "data": {
            "image/png": "[encoded data removed]",
            "text/plain": [
              "<Figure size 432x288 with 1 Axes>"
            ]
          },
          "metadata": {
            "tags": [],
            "needs_background": "light"
          }
        },
        {
          "output_type": "stream",
          "text": [
            "0.39831606\n",
            "0.887127\n",
            "1.1280344\n",
            "1.2693512\n",
            "1.3531725\n",
            "1.4819304\n",
            "1.606572\n",
            "1.8540897\n"
          ],
          "name": "stdout"
        },
        {
          "output_type": "display_data",
          "data": {
            "text/plain": [
              "<Figure size 432x288 with 0 Axes>"
            ]
          },
          "metadata": {
            "tags": []
          }
        },
        {
          "output_type": "display_data",
          "data": {
            "image/png": "[encoded data removed]",
            "text/plain": [
              "<Figure size 720x432 with 8 Axes>"
            ]
          },
          "metadata": {
            "tags": [],
            "needs_background": "light"
          }
        },
        {
          "output_type": "display_data",
          "data": {
            "image/png": "[encoded data removed]",
            "text/plain": [
              "<Figure size 432x288 with 1 Axes>"
            ]
          },
          "metadata": {
            "tags": [],
            "needs_background": "light"
          }
        },
        {
          "output_type": "stream",
          "text": [
            "0.063392185\n",
            "1.3304137\n",
            "1.3560458\n",
            "1.3672861\n",
            "1.3840507\n",
            "1.4376606\n",
            "1.5745113\n",
            "1.5914142\n"
          ],
          "name": "stdout"
        },
        {
          "output_type": "display_data",
          "data": {
            "text/plain": [
              "<Figure size 432x288 with 0 Axes>"
            ]
          },
          "metadata": {
            "tags": []
          }
        },
        {
          "output_type": "display_data",
          "data": {
            "image/png": "[encoded data removed]",
            "text/plain": [
              "<Figure size 720x432 with 8 Axes>"
            ]
          },
          "metadata": {
            "tags": [],
            "needs_background": "light"
          }
        },
        {
          "output_type": "display_data",
          "data": {
            "image/png": "[encoded data removed]",
            "text/plain": [
              "<Figure size 432x288 with 1 Axes>"
            ]
          },
          "metadata": {
            "tags": [],
            "needs_background": "light"
          }
        },
        {
          "output_type": "stream",
          "text": [
            "0.20013374\n",
            "0.47308657\n",
            "0.47935876\n",
            "0.7165198\n",
            "1.0132235\n",
            "1.4943086\n",
            "1.6186615\n",
            "1.7129169\n"
          ],
          "name": "stdout"
        },
        {
          "output_type": "display_data",
          "data": {
            "text/plain": [
              "<Figure size 432x288 with 0 Axes>"
            ]
          },
          "metadata": {
            "tags": []
          }
        },
        {
          "output_type": "display_data",
          "data": {
            "image/png": "[encoded data removed]",
            "text/plain": [
              "<Figure size 720x432 with 8 Axes>"
            ]
          },
          "metadata": {
            "tags": [],
            "needs_background": "light"
          }
        },
        {
          "output_type": "display_data",
          "data": {
            "text/plain": [
              "<Figure size 432x288 with 0 Axes>"
            ]
          },
          "metadata": {
            "tags": []
          }
        }
      ]
    },
    {
      "cell_type": "markdown",
      "metadata": {
        "id": "FBhTAUJJpdKR"
      },
      "source": [
        ""
      ]
    }
  ]
}